{
 "cells": [
  {
   "cell_type": "code",
   "execution_count": null,
   "id": "64c475d8",
   "metadata": {
    "id": "64c475d8"
   },
   "outputs": [],
   "source": [
    "import pandas as pd\n",
    "import numpy as np\n",
    "from scipy.sparse import csr_matrix\n",
    "from scipy.spatial import distance_matrix\n",
    "import gensim.downloader\n",
    "from gensim.models import Word2Vec\n",
    "from scipy.spatial.distance import cosine\n",
    "import pickle\n",
    "from  tqdm import tqdm"
   ]
  },
  {
   "cell_type": "code",
   "execution_count": null,
   "id": "63548440",
   "metadata": {
    "id": "63548440"
   },
   "outputs": [],
   "source": [
    "def reduce_mem_usage(df):\n",
    "    \"\"\" iterate through all the columns of a dataframe and modify the data type\n",
    "        to reduce memory usage.        \n",
    "    \"\"\"\n",
    "    start_mem = df.memory_usage().sum() / 1024**2\n",
    "    print('Memory usage of dataframe is {:.2f} MB'.format(start_mem))\n",
    "    \n",
    "    for col in df.columns:\n",
    "        col_type = df[col].dtype\n",
    "        \n",
    "        if col_type != object:\n",
    "            c_min = df[col].min()\n",
    "            c_max = df[col].max()\n",
    "            if str(col_type)[:3] == 'int':\n",
    "                if c_min > np.iinfo(np.int8).min and c_max < np.iinfo(np.int8).max:\n",
    "                    df[col] = df[col].astype(np.int8)\n",
    "                elif c_min > np.iinfo(np.int16).min and c_max < np.iinfo(np.int16).max:\n",
    "                    df[col] = df[col].astype(np.int16)\n",
    "                elif c_min > np.iinfo(np.int32).min and c_max < np.iinfo(np.int32).max:\n",
    "                    df[col] = df[col].astype(np.int32)\n",
    "                elif c_min > np.iinfo(np.int64).min and c_max < np.iinfo(np.int64).max:\n",
    "                    df[col] = df[col].astype(np.int64)  \n",
    "            else:\n",
    "                if c_min > np.finfo(np.float32).min and c_max < np.finfo(np.float32).max:\n",
    "                    df[col] = df[col].astype(np.float32)\n",
    "                else:\n",
    "                    df[col] = df[col].astype(np.float64)\n",
    "        else:\n",
    "            df[col] = df[col].astype('category')\n",
    "\n",
    "    end_mem = df.memory_usage().sum() / 1024**2\n",
    "    print('Memory usage after optimization is: {:.2f} MB'.format(end_mem))\n",
    "    print('Decreased by {:.1f}%'.format(100 * (start_mem - end_mem) / start_mem))\n",
    "    \n",
    "    return df"
   ]
  },
  {
   "cell_type": "markdown",
   "id": "8e04a909",
   "metadata": {
    "id": "8e04a909"
   },
   "source": [
    "## знакомство с данными \n",
    "#### The format is the following (user_id, song_id, play_count) triplets,"
   ]
  },
  {
   "cell_type": "code",
   "execution_count": null,
   "id": "86e30ae5",
   "metadata": {
    "id": "86e30ae5",
    "outputId": "b9018a33-b94a-4997-962c-66ab4f30f8e7"
   },
   "outputs": [
    {
     "data": {
      "text/html": [
       "<div>\n",
       "<style scoped>\n",
       "    .dataframe tbody tr th:only-of-type {\n",
       "        vertical-align: middle;\n",
       "    }\n",
       "\n",
       "    .dataframe tbody tr th {\n",
       "        vertical-align: top;\n",
       "    }\n",
       "\n",
       "    .dataframe thead th {\n",
       "        text-align: right;\n",
       "    }\n",
       "</style>\n",
       "<table border=\"1\" class=\"dataframe\">\n",
       "  <thead>\n",
       "    <tr style=\"text-align: right;\">\n",
       "      <th></th>\n",
       "      <th>user_id</th>\n",
       "      <th>song_id</th>\n",
       "      <th>play_count</th>\n",
       "    </tr>\n",
       "  </thead>\n",
       "  <tbody>\n",
       "    <tr>\n",
       "      <th>0</th>\n",
       "      <td>b80344d063b5ccb3212f76538f3d9e43d87dca9e</td>\n",
       "      <td>SOAKIMP12A8C130995</td>\n",
       "      <td>1</td>\n",
       "    </tr>\n",
       "    <tr>\n",
       "      <th>1</th>\n",
       "      <td>b80344d063b5ccb3212f76538f3d9e43d87dca9e</td>\n",
       "      <td>SOAPDEY12A81C210A9</td>\n",
       "      <td>1</td>\n",
       "    </tr>\n",
       "    <tr>\n",
       "      <th>2</th>\n",
       "      <td>b80344d063b5ccb3212f76538f3d9e43d87dca9e</td>\n",
       "      <td>SOBBMDR12A8C13253B</td>\n",
       "      <td>2</td>\n",
       "    </tr>\n",
       "    <tr>\n",
       "      <th>3</th>\n",
       "      <td>b80344d063b5ccb3212f76538f3d9e43d87dca9e</td>\n",
       "      <td>SOBFNSP12AF72A0E22</td>\n",
       "      <td>1</td>\n",
       "    </tr>\n",
       "    <tr>\n",
       "      <th>4</th>\n",
       "      <td>b80344d063b5ccb3212f76538f3d9e43d87dca9e</td>\n",
       "      <td>SOBFOVM12A58A7D494</td>\n",
       "      <td>1</td>\n",
       "    </tr>\n",
       "  </tbody>\n",
       "</table>\n",
       "</div>"
      ],
      "text/plain": [
       "                                    user_id             song_id  play_count\n",
       "0  b80344d063b5ccb3212f76538f3d9e43d87dca9e  SOAKIMP12A8C130995           1\n",
       "1  b80344d063b5ccb3212f76538f3d9e43d87dca9e  SOAPDEY12A81C210A9           1\n",
       "2  b80344d063b5ccb3212f76538f3d9e43d87dca9e  SOBBMDR12A8C13253B           2\n",
       "3  b80344d063b5ccb3212f76538f3d9e43d87dca9e  SOBFNSP12AF72A0E22           1\n",
       "4  b80344d063b5ccb3212f76538f3d9e43d87dca9e  SOBFOVM12A58A7D494           1"
      ]
     },
     "execution_count": 3,
     "metadata": {},
     "output_type": "execute_result"
    }
   ],
   "source": [
    "triplets = pd.read_csv('data/P02. MySpotify/train_triplets.txt', sep='\\t',\\\n",
    "header = None, names = ['user_id', 'song_id', 'play_count'])\n",
    "# triplets = reduce_mem_usage(triplets)\n",
    "triplets.head()"
   ]
  },
  {
   "cell_type": "markdown",
   "id": "270d8514",
   "metadata": {
    "id": "270d8514"
   },
   "source": [
    "#### This file stored in a sparse format. It contains track_id, mxm_track_id, then word count for each of the top words, comma-separated. \n",
    "\n",
    "``` TRAINING SET\n",
    " MusiXmatch dataset, the official lyrics dataset\n",
    " of the Million Song Dataset\n",
    "    file created on Tue Mar 29 04:28:44 2011\n",
    "    contact: T. Bertin-Mahieux (Columbia University)\n",
    "             tb2332@columbia.edu\n",
    "    also: http://labrosa.ee.columbia.edu/millionsong/musixmatch\n",
    "          http://www.musixmatch.com\n",
    " FORMAT:\n",
    "     #   - comment, to ignore\n",
    "     %   - list of top words, comma-separated\n",
    "         - normal line, contains track_id, mxm track id,\n",
    "           then word count for each of the top words, comma-separated\n",
    "           word count is in sparse format -> ...,<word idx>:<cnt>,...\n",
    "           <word idx> starts at 1 (not zero!)\n",
    " All our work is done using UTF-8 encoding.\n",
    " enjoy!\n",
    " ```"
   ]
  },
  {
   "cell_type": "code",
   "execution_count": null,
   "id": "43647814",
   "metadata": {
    "id": "43647814",
    "outputId": "2e48794a-c7d8-48f7-c77f-a350893e138d"
   },
   "outputs": [
    {
     "name": "stderr",
     "output_type": "stream",
     "text": [
      "/Users/ila/opt/anaconda3/lib/python3.8/site-packages/IPython/core/interactiveshell.py:3437: DtypeWarning: Columns (262,263,264,265,266,267,268,269,270,271,272,273,274,275,276,277,278,279,280,281,282,283,284,285,286,287,288,289,290,291,292,293,294,295,296,297,298,299,300,301,302,303,304,305,306,307,308,309,310,311,312,313,314,315,316,317,318,319,320,321,322,323,324,325,326,327,328,329,330,331,332,333,334,335,336,337,338,339,340,341,342,343,344,345,346,347,348,349,350,351,352,353,354,355,356,357,358,359,360,361,362,363,364,365,366,367,368,369,370,371,372,373,374,375,376,377,378,379,380,381,382,383,384,385,386,387,388,389,390,391,392,393,394,395,396,397,398,399,400,401,402,403,404,405,406,407,408,409,410,411,412,413,414,415,416,417,418,419,420,421,422,423,424,425,426,427,428,429,430,431,432,433,434,435,436,437,438,439,440,441,442,443,444,445,446,447,448,449,450,451,452,453,454,455,456,457,458,459,460,461,462,463,464,465,466,467,468,469,470,471,472,473,474,475,476,477,478,479,480,481,482,483,484,485,486,487,488,489,490,491,492,493,494,495,496,497,498,499,500,501,502,503,504,505,506,507,508,509,510,511,512,513,514,515,516,517,518,519,520,521,522,523,524,525,526,527,528,529,530,531,532,533,534,535,536,537,538,539,540,541,542,543,544,545,546,547,548,549,550,551,552,553,554,555,556,557,558,559,560,561,562,563,564,565,566,567,568,569,570,571,572,573,574,575,576,577,578,579,580,581,582,583,584,585,586,587,588,589,590,591,592,593,594,595,596,597,598,599,600,601,602,603,604,605,606,607,608,609,610,611,612,613,614,615,616,617,618,619,620,621,622,623,624,625,626,627,628,629,630,631,632,633,634,635,636,637,638,639,640,641,642,643) have mixed types.Specify dtype option on import or set low_memory=False.\n",
      "  exec(code_obj, self.user_global_ns, self.user_ns)\n"
     ]
    },
    {
     "data": {
      "text/html": [
       "<div>\n",
       "<style scoped>\n",
       "    .dataframe tbody tr th:only-of-type {\n",
       "        vertical-align: middle;\n",
       "    }\n",
       "\n",
       "    .dataframe tbody tr th {\n",
       "        vertical-align: top;\n",
       "    }\n",
       "\n",
       "    .dataframe thead th {\n",
       "        text-align: right;\n",
       "    }\n",
       "</style>\n",
       "<table border=\"1\" class=\"dataframe\">\n",
       "  <thead>\n",
       "    <tr style=\"text-align: right;\">\n",
       "      <th></th>\n",
       "      <th>TRVNYYP128F149293F</th>\n",
       "      <th>2260161</th>\n",
       "      <th>1:303</th>\n",
       "      <th>2:170</th>\n",
       "      <th>3:192</th>\n",
       "      <th>4:117</th>\n",
       "      <th>5:148</th>\n",
       "      <th>6:184</th>\n",
       "      <th>7:64</th>\n",
       "      <th>8:147</th>\n",
       "      <th>...</th>\n",
       "      <th>4526:2</th>\n",
       "      <th>4582:1</th>\n",
       "      <th>4746:1</th>\n",
       "      <th>4756:2</th>\n",
       "      <th>4769:2</th>\n",
       "      <th>4773:1</th>\n",
       "      <th>4836:1</th>\n",
       "      <th>4849:2</th>\n",
       "      <th>4878:2</th>\n",
       "      <th>4952:2</th>\n",
       "    </tr>\n",
       "  </thead>\n",
       "  <tbody>\n",
       "    <tr>\n",
       "      <th>0</th>\n",
       "      <td>TRAAAHZ128E0799171</td>\n",
       "      <td>1619153</td>\n",
       "      <td>1:39</td>\n",
       "      <td>2:30</td>\n",
       "      <td>3:10</td>\n",
       "      <td>4:10</td>\n",
       "      <td>5:28</td>\n",
       "      <td>6:21</td>\n",
       "      <td>7:1</td>\n",
       "      <td>8:20</td>\n",
       "      <td>...</td>\n",
       "      <td>NaN</td>\n",
       "      <td>NaN</td>\n",
       "      <td>NaN</td>\n",
       "      <td>NaN</td>\n",
       "      <td>NaN</td>\n",
       "      <td>NaN</td>\n",
       "      <td>NaN</td>\n",
       "      <td>NaN</td>\n",
       "      <td>NaN</td>\n",
       "      <td>NaN</td>\n",
       "    </tr>\n",
       "    <tr>\n",
       "      <th>1</th>\n",
       "      <td>TRAAAED128E0783FAB</td>\n",
       "      <td>2516445</td>\n",
       "      <td>1:28</td>\n",
       "      <td>2:15</td>\n",
       "      <td>3:2</td>\n",
       "      <td>4:12</td>\n",
       "      <td>5:22</td>\n",
       "      <td>6:2</td>\n",
       "      <td>7:2</td>\n",
       "      <td>8:4</td>\n",
       "      <td>...</td>\n",
       "      <td>NaN</td>\n",
       "      <td>NaN</td>\n",
       "      <td>NaN</td>\n",
       "      <td>NaN</td>\n",
       "      <td>NaN</td>\n",
       "      <td>NaN</td>\n",
       "      <td>NaN</td>\n",
       "      <td>NaN</td>\n",
       "      <td>NaN</td>\n",
       "      <td>NaN</td>\n",
       "    </tr>\n",
       "    <tr>\n",
       "      <th>2</th>\n",
       "      <td>TRAAAAV128F421A322</td>\n",
       "      <td>4623710</td>\n",
       "      <td>1:6</td>\n",
       "      <td>2:4</td>\n",
       "      <td>3:2</td>\n",
       "      <td>4:2</td>\n",
       "      <td>5:5</td>\n",
       "      <td>6:3</td>\n",
       "      <td>7:1</td>\n",
       "      <td>8:1</td>\n",
       "      <td>...</td>\n",
       "      <td>NaN</td>\n",
       "      <td>NaN</td>\n",
       "      <td>NaN</td>\n",
       "      <td>NaN</td>\n",
       "      <td>NaN</td>\n",
       "      <td>NaN</td>\n",
       "      <td>NaN</td>\n",
       "      <td>NaN</td>\n",
       "      <td>NaN</td>\n",
       "      <td>NaN</td>\n",
       "    </tr>\n",
       "    <tr>\n",
       "      <th>3</th>\n",
       "      <td>TRAAABD128F429CF47</td>\n",
       "      <td>6477168</td>\n",
       "      <td>1:10</td>\n",
       "      <td>3:17</td>\n",
       "      <td>4:8</td>\n",
       "      <td>5:2</td>\n",
       "      <td>6:2</td>\n",
       "      <td>7:1</td>\n",
       "      <td>8:3</td>\n",
       "      <td>9:2</td>\n",
       "      <td>...</td>\n",
       "      <td>NaN</td>\n",
       "      <td>NaN</td>\n",
       "      <td>NaN</td>\n",
       "      <td>NaN</td>\n",
       "      <td>NaN</td>\n",
       "      <td>NaN</td>\n",
       "      <td>NaN</td>\n",
       "      <td>NaN</td>\n",
       "      <td>NaN</td>\n",
       "      <td>NaN</td>\n",
       "    </tr>\n",
       "    <tr>\n",
       "      <th>4</th>\n",
       "      <td>TRAAAEF128F4273421</td>\n",
       "      <td>3759847</td>\n",
       "      <td>1:5</td>\n",
       "      <td>2:4</td>\n",
       "      <td>3:3</td>\n",
       "      <td>4:2</td>\n",
       "      <td>5:1</td>\n",
       "      <td>6:11</td>\n",
       "      <td>9:4</td>\n",
       "      <td>12:9</td>\n",
       "      <td>...</td>\n",
       "      <td>NaN</td>\n",
       "      <td>NaN</td>\n",
       "      <td>NaN</td>\n",
       "      <td>NaN</td>\n",
       "      <td>NaN</td>\n",
       "      <td>NaN</td>\n",
       "      <td>NaN</td>\n",
       "      <td>NaN</td>\n",
       "      <td>NaN</td>\n",
       "      <td>NaN</td>\n",
       "    </tr>\n",
       "    <tr>\n",
       "      <th>...</th>\n",
       "      <td>...</td>\n",
       "      <td>...</td>\n",
       "      <td>...</td>\n",
       "      <td>...</td>\n",
       "      <td>...</td>\n",
       "      <td>...</td>\n",
       "      <td>...</td>\n",
       "      <td>...</td>\n",
       "      <td>...</td>\n",
       "      <td>...</td>\n",
       "      <td>...</td>\n",
       "      <td>...</td>\n",
       "      <td>...</td>\n",
       "      <td>...</td>\n",
       "      <td>...</td>\n",
       "      <td>...</td>\n",
       "      <td>...</td>\n",
       "      <td>...</td>\n",
       "      <td>...</td>\n",
       "      <td>...</td>\n",
       "      <td>...</td>\n",
       "    </tr>\n",
       "    <tr>\n",
       "      <th>210513</th>\n",
       "      <td>TRZZZWS128F429CF87</td>\n",
       "      <td>3080645</td>\n",
       "      <td>6:1</td>\n",
       "      <td>24:9</td>\n",
       "      <td>38:7</td>\n",
       "      <td>42:1</td>\n",
       "      <td>77:4</td>\n",
       "      <td>90:1</td>\n",
       "      <td>112:5</td>\n",
       "      <td>114:4</td>\n",
       "      <td>...</td>\n",
       "      <td>NaN</td>\n",
       "      <td>NaN</td>\n",
       "      <td>NaN</td>\n",
       "      <td>NaN</td>\n",
       "      <td>NaN</td>\n",
       "      <td>NaN</td>\n",
       "      <td>NaN</td>\n",
       "      <td>NaN</td>\n",
       "      <td>NaN</td>\n",
       "      <td>NaN</td>\n",
       "    </tr>\n",
       "    <tr>\n",
       "      <th>210514</th>\n",
       "      <td>TRZZZXA128F428ED56</td>\n",
       "      <td>2344272</td>\n",
       "      <td>1:1</td>\n",
       "      <td>2:13</td>\n",
       "      <td>3:6</td>\n",
       "      <td>4:5</td>\n",
       "      <td>5:4</td>\n",
       "      <td>6:6</td>\n",
       "      <td>9:4</td>\n",
       "      <td>10:4</td>\n",
       "      <td>...</td>\n",
       "      <td>NaN</td>\n",
       "      <td>NaN</td>\n",
       "      <td>NaN</td>\n",
       "      <td>NaN</td>\n",
       "      <td>NaN</td>\n",
       "      <td>NaN</td>\n",
       "      <td>NaN</td>\n",
       "      <td>NaN</td>\n",
       "      <td>NaN</td>\n",
       "      <td>NaN</td>\n",
       "    </tr>\n",
       "    <tr>\n",
       "      <th>210515</th>\n",
       "      <td>TRZZZXV128F4289747</td>\n",
       "      <td>1417347</td>\n",
       "      <td>1:13</td>\n",
       "      <td>2:3</td>\n",
       "      <td>3:17</td>\n",
       "      <td>4:5</td>\n",
       "      <td>5:9</td>\n",
       "      <td>7:8</td>\n",
       "      <td>8:2</td>\n",
       "      <td>9:1</td>\n",
       "      <td>...</td>\n",
       "      <td>NaN</td>\n",
       "      <td>NaN</td>\n",
       "      <td>NaN</td>\n",
       "      <td>NaN</td>\n",
       "      <td>NaN</td>\n",
       "      <td>NaN</td>\n",
       "      <td>NaN</td>\n",
       "      <td>NaN</td>\n",
       "      <td>NaN</td>\n",
       "      <td>NaN</td>\n",
       "    </tr>\n",
       "    <tr>\n",
       "      <th>210516</th>\n",
       "      <td>TRZZZYV128F92E996D</td>\n",
       "      <td>6849828</td>\n",
       "      <td>1:10</td>\n",
       "      <td>2:6</td>\n",
       "      <td>3:20</td>\n",
       "      <td>5:2</td>\n",
       "      <td>7:30</td>\n",
       "      <td>8:1</td>\n",
       "      <td>9:6</td>\n",
       "      <td>10:3</td>\n",
       "      <td>...</td>\n",
       "      <td>NaN</td>\n",
       "      <td>NaN</td>\n",
       "      <td>NaN</td>\n",
       "      <td>NaN</td>\n",
       "      <td>NaN</td>\n",
       "      <td>NaN</td>\n",
       "      <td>NaN</td>\n",
       "      <td>NaN</td>\n",
       "      <td>NaN</td>\n",
       "      <td>NaN</td>\n",
       "    </tr>\n",
       "    <tr>\n",
       "      <th>210517</th>\n",
       "      <td>TRZZZYX128F92D32C6</td>\n",
       "      <td>681124</td>\n",
       "      <td>1:4</td>\n",
       "      <td>2:18</td>\n",
       "      <td>4:3</td>\n",
       "      <td>5:6</td>\n",
       "      <td>6:9</td>\n",
       "      <td>7:1</td>\n",
       "      <td>8:5</td>\n",
       "      <td>9:1</td>\n",
       "      <td>...</td>\n",
       "      <td>NaN</td>\n",
       "      <td>NaN</td>\n",
       "      <td>NaN</td>\n",
       "      <td>NaN</td>\n",
       "      <td>NaN</td>\n",
       "      <td>NaN</td>\n",
       "      <td>NaN</td>\n",
       "      <td>NaN</td>\n",
       "      <td>NaN</td>\n",
       "      <td>NaN</td>\n",
       "    </tr>\n",
       "  </tbody>\n",
       "</table>\n",
       "<p>210518 rows × 730 columns</p>\n",
       "</div>"
      ],
      "text/plain": [
       "        TRVNYYP128F149293F  2260161 1:303 2:170 3:192 4:117 5:148 6:184  \\\n",
       "0       TRAAAHZ128E0799171  1619153  1:39  2:30  3:10  4:10  5:28  6:21   \n",
       "1       TRAAAED128E0783FAB  2516445  1:28  2:15   3:2  4:12  5:22   6:2   \n",
       "2       TRAAAAV128F421A322  4623710   1:6   2:4   3:2   4:2   5:5   6:3   \n",
       "3       TRAAABD128F429CF47  6477168  1:10  3:17   4:8   5:2   6:2   7:1   \n",
       "4       TRAAAEF128F4273421  3759847   1:5   2:4   3:3   4:2   5:1  6:11   \n",
       "...                    ...      ...   ...   ...   ...   ...   ...   ...   \n",
       "210513  TRZZZWS128F429CF87  3080645   6:1  24:9  38:7  42:1  77:4  90:1   \n",
       "210514  TRZZZXA128F428ED56  2344272   1:1  2:13   3:6   4:5   5:4   6:6   \n",
       "210515  TRZZZXV128F4289747  1417347  1:13   2:3  3:17   4:5   5:9   7:8   \n",
       "210516  TRZZZYV128F92E996D  6849828  1:10   2:6  3:20   5:2  7:30   8:1   \n",
       "210517  TRZZZYX128F92D32C6   681124   1:4  2:18   4:3   5:6   6:9   7:1   \n",
       "\n",
       "         7:64  8:147  ... 4526:2 4582:1 4746:1 4756:2 4769:2 4773:1 4836:1  \\\n",
       "0         7:1   8:20  ...    NaN    NaN    NaN    NaN    NaN    NaN    NaN   \n",
       "1         7:2    8:4  ...    NaN    NaN    NaN    NaN    NaN    NaN    NaN   \n",
       "2         7:1    8:1  ...    NaN    NaN    NaN    NaN    NaN    NaN    NaN   \n",
       "3         8:3    9:2  ...    NaN    NaN    NaN    NaN    NaN    NaN    NaN   \n",
       "4         9:4   12:9  ...    NaN    NaN    NaN    NaN    NaN    NaN    NaN   \n",
       "...       ...    ...  ...    ...    ...    ...    ...    ...    ...    ...   \n",
       "210513  112:5  114:4  ...    NaN    NaN    NaN    NaN    NaN    NaN    NaN   \n",
       "210514    9:4   10:4  ...    NaN    NaN    NaN    NaN    NaN    NaN    NaN   \n",
       "210515    8:2    9:1  ...    NaN    NaN    NaN    NaN    NaN    NaN    NaN   \n",
       "210516    9:6   10:3  ...    NaN    NaN    NaN    NaN    NaN    NaN    NaN   \n",
       "210517    8:5    9:1  ...    NaN    NaN    NaN    NaN    NaN    NaN    NaN   \n",
       "\n",
       "       4849:2 4878:2 4952:2  \n",
       "0         NaN    NaN    NaN  \n",
       "1         NaN    NaN    NaN  \n",
       "2         NaN    NaN    NaN  \n",
       "3         NaN    NaN    NaN  \n",
       "4         NaN    NaN    NaN  \n",
       "...       ...    ...    ...  \n",
       "210513    NaN    NaN    NaN  \n",
       "210514    NaN    NaN    NaN  \n",
       "210515    NaN    NaN    NaN  \n",
       "210516    NaN    NaN    NaN  \n",
       "210517    NaN    NaN    NaN  \n",
       "\n",
       "[210518 rows x 730 columns]"
      ]
     },
     "execution_count": 4,
     "metadata": {},
     "output_type": "execute_result"
    }
   ],
   "source": [
    "mxm_dataset = pd.read_csv('data/P02. MySpotify/mxm_dataset_train.txt', sep=',')\n",
    "# mxm_dataset = reduce_mem_usage(mxm_dataset)\n",
    "mxm_dataset"
   ]
  },
  {
   "cell_type": "markdown",
   "id": "a3efbb28",
   "metadata": {
    "id": "a3efbb28"
   },
   "source": [
    "#### Tagtraum genre annotations for the Million Song Dataset.\n",
    "\n",
    "\n",
    "```\n",
    "############################################################################################\n",
    "#    Song-level genre labels for MSD songs based on majority vote (or consensus for n=2).\n",
    "#    Format: '#'  = comment\n",
    "#            '\\t' = field separator\n",
    "#            '\\n' = line separator\n",
    "#    Fields: trackId, majority-genre, minority-genre?\n",
    "############################################################################################ \n",
    "```"
   ]
  },
  {
   "cell_type": "code",
   "execution_count": null,
   "id": "1e2193b6",
   "metadata": {
    "id": "1e2193b6",
    "outputId": "a260bf79-4d87-4ed4-86ea-af9fc7d36201"
   },
   "outputs": [
    {
     "data": {
      "text/html": [
       "<div>\n",
       "<style scoped>\n",
       "    .dataframe tbody tr th:only-of-type {\n",
       "        vertical-align: middle;\n",
       "    }\n",
       "\n",
       "    .dataframe tbody tr th {\n",
       "        vertical-align: top;\n",
       "    }\n",
       "\n",
       "    .dataframe thead th {\n",
       "        text-align: right;\n",
       "    }\n",
       "</style>\n",
       "<table border=\"1\" class=\"dataframe\">\n",
       "  <thead>\n",
       "    <tr style=\"text-align: right;\">\n",
       "      <th></th>\n",
       "      <th>track_id</th>\n",
       "      <th>majority_genre</th>\n",
       "      <th>minority_genre</th>\n",
       "    </tr>\n",
       "  </thead>\n",
       "  <tbody>\n",
       "    <tr>\n",
       "      <th>0</th>\n",
       "      <td>TRAAAAK128F9318786</td>\n",
       "      <td>Rock</td>\n",
       "      <td>NaN</td>\n",
       "    </tr>\n",
       "    <tr>\n",
       "      <th>1</th>\n",
       "      <td>TRAAAAW128F429D538</td>\n",
       "      <td>Rap</td>\n",
       "      <td>NaN</td>\n",
       "    </tr>\n",
       "    <tr>\n",
       "      <th>2</th>\n",
       "      <td>TRAAABD128F429CF47</td>\n",
       "      <td>Rock</td>\n",
       "      <td>RnB</td>\n",
       "    </tr>\n",
       "    <tr>\n",
       "      <th>3</th>\n",
       "      <td>TRAAADJ128F4287B47</td>\n",
       "      <td>Rock</td>\n",
       "      <td>NaN</td>\n",
       "    </tr>\n",
       "    <tr>\n",
       "      <th>4</th>\n",
       "      <td>TRAAADZ128F9348C2E</td>\n",
       "      <td>Latin</td>\n",
       "      <td>NaN</td>\n",
       "    </tr>\n",
       "    <tr>\n",
       "      <th>...</th>\n",
       "      <td>...</td>\n",
       "      <td>...</td>\n",
       "      <td>...</td>\n",
       "    </tr>\n",
       "    <tr>\n",
       "      <th>280826</th>\n",
       "      <td>TRZZZRJ128F42819AF</td>\n",
       "      <td>Rock</td>\n",
       "      <td>NaN</td>\n",
       "    </tr>\n",
       "    <tr>\n",
       "      <th>280827</th>\n",
       "      <td>TRZZZUK128F92E3C60</td>\n",
       "      <td>Folk</td>\n",
       "      <td>NaN</td>\n",
       "    </tr>\n",
       "    <tr>\n",
       "      <th>280828</th>\n",
       "      <td>TRZZZYV128F92E996D</td>\n",
       "      <td>New Age</td>\n",
       "      <td>RnB</td>\n",
       "    </tr>\n",
       "    <tr>\n",
       "      <th>280829</th>\n",
       "      <td>TRZZZZD128F4236844</td>\n",
       "      <td>Rock</td>\n",
       "      <td>NaN</td>\n",
       "    </tr>\n",
       "    <tr>\n",
       "      <th>280830</th>\n",
       "      <td>TRZZZZZ12903D05E3A</td>\n",
       "      <td>Electronic</td>\n",
       "      <td>NaN</td>\n",
       "    </tr>\n",
       "  </tbody>\n",
       "</table>\n",
       "<p>280831 rows × 3 columns</p>\n",
       "</div>"
      ],
      "text/plain": [
       "                  track_id majority_genre minority_genre\n",
       "0       TRAAAAK128F9318786           Rock            NaN\n",
       "1       TRAAAAW128F429D538            Rap            NaN\n",
       "2       TRAAABD128F429CF47           Rock            RnB\n",
       "3       TRAAADJ128F4287B47           Rock            NaN\n",
       "4       TRAAADZ128F9348C2E          Latin            NaN\n",
       "...                    ...            ...            ...\n",
       "280826  TRZZZRJ128F42819AF           Rock            NaN\n",
       "280827  TRZZZUK128F92E3C60           Folk            NaN\n",
       "280828  TRZZZYV128F92E996D        New Age            RnB\n",
       "280829  TRZZZZD128F4236844           Rock            NaN\n",
       "280830  TRZZZZZ12903D05E3A     Electronic            NaN\n",
       "\n",
       "[280831 rows x 3 columns]"
      ]
     },
     "execution_count": 5,
     "metadata": {},
     "output_type": "execute_result"
    }
   ],
   "source": [
    "tagtraum = pd.read_csv('data/P02. MySpotify/p02_msd_tagtraum_cd2.cls',\\\n",
    "sep='\\t', names=['track_id', 'majority_genre', 'minority_genre'], header=None)\n",
    "tagtraum"
   ]
  },
  {
   "cell_type": "markdown",
   "id": "6315270e",
   "metadata": {
    "id": "6315270e"
   },
   "source": [
    "#### The mapping between track ids and song ids."
   ]
  },
  {
   "cell_type": "code",
   "execution_count": null,
   "id": "ef696c24",
   "metadata": {
    "id": "ef696c24",
    "outputId": "9df1cc25-e1d1-4029-d02c-15db4ff41d0b"
   },
   "outputs": [
    {
     "name": "stderr",
     "output_type": "stream",
     "text": [
      "/Users/ila/opt/anaconda3/lib/python3.8/site-packages/pandas/util/_decorators.py:311: ParserWarning: Falling back to the 'python' engine because the 'c' engine does not support regex separators (separators > 1 char and different from '\\s+' are interpreted as regex); you can avoid this warning by specifying engine='python'.\n",
      "  return func(*args, **kwargs)\n"
     ]
    },
    {
     "data": {
      "text/html": [
       "<div>\n",
       "<style scoped>\n",
       "    .dataframe tbody tr th:only-of-type {\n",
       "        vertical-align: middle;\n",
       "    }\n",
       "\n",
       "    .dataframe tbody tr th {\n",
       "        vertical-align: top;\n",
       "    }\n",
       "\n",
       "    .dataframe thead th {\n",
       "        text-align: right;\n",
       "    }\n",
       "</style>\n",
       "<table border=\"1\" class=\"dataframe\">\n",
       "  <thead>\n",
       "    <tr style=\"text-align: right;\">\n",
       "      <th></th>\n",
       "      <th>track_id</th>\n",
       "      <th>song_id</th>\n",
       "      <th>artist</th>\n",
       "      <th>title</th>\n",
       "    </tr>\n",
       "  </thead>\n",
       "  <tbody>\n",
       "    <tr>\n",
       "      <th>0</th>\n",
       "      <td>TRMMMYQ128F932D901</td>\n",
       "      <td>SOQMMHC12AB0180CB8</td>\n",
       "      <td>Faster Pussy cat</td>\n",
       "      <td>Silent Night</td>\n",
       "    </tr>\n",
       "    <tr>\n",
       "      <th>1</th>\n",
       "      <td>TRMMMKD128F425225D</td>\n",
       "      <td>SOVFVAK12A8C1350D9</td>\n",
       "      <td>Karkkiautomaatti</td>\n",
       "      <td>Tanssi vaan</td>\n",
       "    </tr>\n",
       "    <tr>\n",
       "      <th>2</th>\n",
       "      <td>TRMMMRX128F93187D9</td>\n",
       "      <td>SOGTUKN12AB017F4F1</td>\n",
       "      <td>Hudson Mohawke</td>\n",
       "      <td>No One Could Ever</td>\n",
       "    </tr>\n",
       "    <tr>\n",
       "      <th>3</th>\n",
       "      <td>TRMMMCH128F425532C</td>\n",
       "      <td>SOBNYVR12A8C13558C</td>\n",
       "      <td>Yerba Brava</td>\n",
       "      <td>Si Vos Querés</td>\n",
       "    </tr>\n",
       "    <tr>\n",
       "      <th>4</th>\n",
       "      <td>TRMMMWA128F426B589</td>\n",
       "      <td>SOHSBXH12A8C13B0DF</td>\n",
       "      <td>Der Mystic</td>\n",
       "      <td>Tangle Of Aspens</td>\n",
       "    </tr>\n",
       "    <tr>\n",
       "      <th>...</th>\n",
       "      <td>...</td>\n",
       "      <td>...</td>\n",
       "      <td>...</td>\n",
       "      <td>...</td>\n",
       "    </tr>\n",
       "    <tr>\n",
       "      <th>999995</th>\n",
       "      <td>TRYYYUS12903CD2DF0</td>\n",
       "      <td>SOTXAME12AB018F136</td>\n",
       "      <td>Kiko Navarro</td>\n",
       "      <td>O Samba Da Vida</td>\n",
       "    </tr>\n",
       "    <tr>\n",
       "      <th>999996</th>\n",
       "      <td>TRYYYJO128F426DA37</td>\n",
       "      <td>SOXQYIQ12A8C137FBB</td>\n",
       "      <td>Kuldeep Manak</td>\n",
       "      <td>Jago Chhadeo</td>\n",
       "    </tr>\n",
       "    <tr>\n",
       "      <th>999997</th>\n",
       "      <td>TRYYYMG128F4260ECA</td>\n",
       "      <td>SOHODZI12A8C137BB3</td>\n",
       "      <td>Gabriel Le Mar</td>\n",
       "      <td>Novemba</td>\n",
       "    </tr>\n",
       "    <tr>\n",
       "      <th>999998</th>\n",
       "      <td>TRYYYDJ128F9310A21</td>\n",
       "      <td>SOLXGOR12A81C21EB7</td>\n",
       "      <td>Elude</td>\n",
       "      <td>Faraday</td>\n",
       "    </tr>\n",
       "    <tr>\n",
       "      <th>999999</th>\n",
       "      <td>TRYYYVU12903CD01E3</td>\n",
       "      <td>SOWXJXQ12AB0189F43</td>\n",
       "      <td>Texta</td>\n",
       "      <td>Fernweh feat. Sektion Kuchikäschtli</td>\n",
       "    </tr>\n",
       "  </tbody>\n",
       "</table>\n",
       "<p>1000000 rows × 4 columns</p>\n",
       "</div>"
      ],
      "text/plain": [
       "                  track_id             song_id            artist  \\\n",
       "0       TRMMMYQ128F932D901  SOQMMHC12AB0180CB8  Faster Pussy cat   \n",
       "1       TRMMMKD128F425225D  SOVFVAK12A8C1350D9  Karkkiautomaatti   \n",
       "2       TRMMMRX128F93187D9  SOGTUKN12AB017F4F1    Hudson Mohawke   \n",
       "3       TRMMMCH128F425532C  SOBNYVR12A8C13558C       Yerba Brava   \n",
       "4       TRMMMWA128F426B589  SOHSBXH12A8C13B0DF        Der Mystic   \n",
       "...                    ...                 ...               ...   \n",
       "999995  TRYYYUS12903CD2DF0  SOTXAME12AB018F136      Kiko Navarro   \n",
       "999996  TRYYYJO128F426DA37  SOXQYIQ12A8C137FBB     Kuldeep Manak   \n",
       "999997  TRYYYMG128F4260ECA  SOHODZI12A8C137BB3    Gabriel Le Mar   \n",
       "999998  TRYYYDJ128F9310A21  SOLXGOR12A81C21EB7             Elude   \n",
       "999999  TRYYYVU12903CD01E3  SOWXJXQ12AB0189F43             Texta   \n",
       "\n",
       "                                      title  \n",
       "0                              Silent Night  \n",
       "1                               Tanssi vaan  \n",
       "2                         No One Could Ever  \n",
       "3                             Si Vos Querés  \n",
       "4                          Tangle Of Aspens  \n",
       "...                                     ...  \n",
       "999995                      O Samba Da Vida  \n",
       "999996                         Jago Chhadeo  \n",
       "999997                              Novemba  \n",
       "999998                              Faraday  \n",
       "999999  Fernweh feat. Sektion Kuchikäschtli  \n",
       "\n",
       "[1000000 rows x 4 columns]"
      ]
     },
     "execution_count": 6,
     "metadata": {},
     "output_type": "execute_result"
    }
   ],
   "source": [
    "unique_tracks = pd.read_csv('data/P02. MySpotify/p02_unique_tracks.txt', sep='<SEP>',\\\n",
    "header=None, names = ['track_id', 'song_id', 'artist', 'title'])\n",
    "unique_tracks"
   ]
  },
  {
   "cell_type": "markdown",
   "id": "cb53a984",
   "metadata": {
    "id": "cb53a984"
   },
   "source": [
    "## Implementation"
   ]
  },
  {
   "cell_type": "markdown",
   "id": "7bb5b02e",
   "metadata": {
    "id": "7bb5b02e"
   },
   "source": [
    "### Top-250 tracks\n",
    "It should return a dataframe with the following fields: index number, artist name, track\n",
    "title, play count. The table should be sorted by the play count descendingly.\n",
    "\n",
    "одному song_id может принадлежать несколько track_id,но по сутии  разные track_id  ссылаются на одого и того же исполнителя"
   ]
  },
  {
   "cell_type": "code",
   "execution_count": null,
   "id": "bc023f3d",
   "metadata": {
    "id": "bc023f3d",
    "outputId": "b5d1b01d-4e4d-4cc8-cc73-37294a72373a"
   },
   "outputs": [
    {
     "data": {
      "text/html": [
       "<div>\n",
       "<style scoped>\n",
       "    .dataframe tbody tr th:only-of-type {\n",
       "        vertical-align: middle;\n",
       "    }\n",
       "\n",
       "    .dataframe tbody tr th {\n",
       "        vertical-align: top;\n",
       "    }\n",
       "\n",
       "    .dataframe thead th {\n",
       "        text-align: right;\n",
       "    }\n",
       "</style>\n",
       "<table border=\"1\" class=\"dataframe\">\n",
       "  <thead>\n",
       "    <tr style=\"text-align: right;\">\n",
       "      <th></th>\n",
       "      <th>song_id</th>\n",
       "      <th>play_count</th>\n",
       "    </tr>\n",
       "  </thead>\n",
       "  <tbody>\n",
       "    <tr>\n",
       "      <th>25043</th>\n",
       "      <td>SOBONKR12A58A7A7E0</td>\n",
       "      <td>726885</td>\n",
       "    </tr>\n",
       "    <tr>\n",
       "      <th>12936</th>\n",
       "      <td>SOAUWYT12A81C206F1</td>\n",
       "      <td>648239</td>\n",
       "    </tr>\n",
       "    <tr>\n",
       "      <th>287415</th>\n",
       "      <td>SOSXLTC12AF72A7F54</td>\n",
       "      <td>527893</td>\n",
       "    </tr>\n",
       "    <tr>\n",
       "      <th>90798</th>\n",
       "      <td>SOFRQTD12A81C233C0</td>\n",
       "      <td>425463</td>\n",
       "    </tr>\n",
       "    <tr>\n",
       "      <th>67917</th>\n",
       "      <td>SOEGIYH12A6D4FC0E3</td>\n",
       "      <td>389880</td>\n",
       "    </tr>\n",
       "  </tbody>\n",
       "</table>\n",
       "</div>"
      ],
      "text/plain": [
       "                   song_id  play_count\n",
       "25043   SOBONKR12A58A7A7E0      726885\n",
       "12936   SOAUWYT12A81C206F1      648239\n",
       "287415  SOSXLTC12AF72A7F54      527893\n",
       "90798   SOFRQTD12A81C233C0      425463\n",
       "67917   SOEGIYH12A6D4FC0E3      389880"
      ]
     },
     "execution_count": 222,
     "metadata": {},
     "output_type": "execute_result"
    }
   ],
   "source": [
    "pop_song = triplets[['song_id', 'play_count']].groupby('song_id')['play_count'].sum()\n",
    "pop_song = pop_song.reset_index()\n",
    "sor_pop_song = pop_song.sort_values(by = 'play_count', ascending = False)\n",
    "top_250 = sor_pop_song.iloc[:250]\n",
    "top_250.head()"
   ]
  },
  {
   "cell_type": "code",
   "execution_count": null,
   "id": "e31c51cb",
   "metadata": {
    "id": "e31c51cb"
   },
   "outputs": [],
   "source": [
    "pop_song_unique_tracks = pd.merge(pop_song, unique_tracks, how='left', on = 'song_id')\n",
    "pop_song_unique_tracks = pop_song_unique_tracks.sort_values(by = 'play_count', ascending = False)\n",
    "play_count_track_id = pop_song_unique_tracks[~pop_song_unique_tracks['song_id'].duplicated()]\n",
    "play_count_track_id = play_count_track_id.rename(columns={'artist':'artist name', 'title':'track title'})"
   ]
  },
  {
   "cell_type": "code",
   "execution_count": null,
   "id": "7df0b9e6",
   "metadata": {
    "id": "7df0b9e6",
    "outputId": "75ce3c59-8d0f-4d53-9864-8fbb24a394ca"
   },
   "outputs": [
    {
     "data": {
      "text/html": [
       "<div>\n",
       "<style scoped>\n",
       "    .dataframe tbody tr th:only-of-type {\n",
       "        vertical-align: middle;\n",
       "    }\n",
       "\n",
       "    .dataframe tbody tr th {\n",
       "        vertical-align: top;\n",
       "    }\n",
       "\n",
       "    .dataframe thead th {\n",
       "        text-align: right;\n",
       "    }\n",
       "</style>\n",
       "<table border=\"1\" class=\"dataframe\">\n",
       "  <thead>\n",
       "    <tr style=\"text-align: right;\">\n",
       "      <th></th>\n",
       "      <th>artist name</th>\n",
       "      <th>track title</th>\n",
       "      <th>play_count</th>\n",
       "    </tr>\n",
       "  </thead>\n",
       "  <tbody>\n",
       "    <tr>\n",
       "      <th>0</th>\n",
       "      <td>Dwight Yoakam</td>\n",
       "      <td>You're The One</td>\n",
       "      <td>726885.0</td>\n",
       "    </tr>\n",
       "    <tr>\n",
       "      <th>1</th>\n",
       "      <td>Björk</td>\n",
       "      <td>Undo</td>\n",
       "      <td>648239.0</td>\n",
       "    </tr>\n",
       "    <tr>\n",
       "      <th>2</th>\n",
       "      <td>Kings Of Leon</td>\n",
       "      <td>Revelry</td>\n",
       "      <td>527893.0</td>\n",
       "    </tr>\n",
       "    <tr>\n",
       "      <th>3</th>\n",
       "      <td>Harmonia</td>\n",
       "      <td>Sehr kosmisch</td>\n",
       "      <td>425463.0</td>\n",
       "    </tr>\n",
       "    <tr>\n",
       "      <th>4</th>\n",
       "      <td>Barry Tuckwell/Academy of St Martin-in-the-Fie...</td>\n",
       "      <td>Horn Concerto No. 4 in E flat K495: II. Romanc...</td>\n",
       "      <td>389880.0</td>\n",
       "    </tr>\n",
       "  </tbody>\n",
       "</table>\n",
       "</div>"
      ],
      "text/plain": [
       "                                         artist name  \\\n",
       "0                                      Dwight Yoakam   \n",
       "1                                              Björk   \n",
       "2                                      Kings Of Leon   \n",
       "3                                           Harmonia   \n",
       "4  Barry Tuckwell/Academy of St Martin-in-the-Fie...   \n",
       "\n",
       "                                         track title  play_count  \n",
       "0                                     You're The One    726885.0  \n",
       "1                                               Undo    648239.0  \n",
       "2                                            Revelry    527893.0  \n",
       "3                                      Sehr kosmisch    425463.0  \n",
       "4  Horn Concerto No. 4 in E flat K495: II. Romanc...    389880.0  "
      ]
     },
     "execution_count": 47,
     "metadata": {},
     "output_type": "execute_result"
    }
   ],
   "source": [
    "top_250_unique_tracks = play_count_track_id.iloc[:250]\n",
    "top_250_tracks = top_250_unique_tracks[['artist name', 'track title', 'play_count']]\\\n",
    ".sort_values('play_count', ascending = False).reset_index().drop('index', axis=1)\n",
    "top_250_tracks.head()"
   ]
  },
  {
   "cell_type": "code",
   "execution_count": null,
   "id": "4a8b9437",
   "metadata": {
    "id": "4a8b9437",
    "outputId": "0bb04ca4-0abc-4b0d-e1fc-364447eb6255"
   },
   "outputs": [
    {
     "data": {
      "text/html": [
       "<div>\n",
       "<style scoped>\n",
       "    .dataframe tbody tr th:only-of-type {\n",
       "        vertical-align: middle;\n",
       "    }\n",
       "\n",
       "    .dataframe tbody tr th {\n",
       "        vertical-align: top;\n",
       "    }\n",
       "\n",
       "    .dataframe thead th {\n",
       "        text-align: right;\n",
       "    }\n",
       "</style>\n",
       "<table border=\"1\" class=\"dataframe\">\n",
       "  <thead>\n",
       "    <tr style=\"text-align: right;\">\n",
       "      <th></th>\n",
       "      <th>artist name</th>\n",
       "      <th>track title</th>\n",
       "      <th>play_count</th>\n",
       "    </tr>\n",
       "  </thead>\n",
       "  <tbody>\n",
       "    <tr>\n",
       "      <th>245</th>\n",
       "      <td>Triple Six Mafia</td>\n",
       "      <td>Now I'm High_ Really High</td>\n",
       "      <td>35253.0</td>\n",
       "    </tr>\n",
       "    <tr>\n",
       "      <th>246</th>\n",
       "      <td>The Red Jumpsuit Apparatus</td>\n",
       "      <td>Face Down (Album Version)</td>\n",
       "      <td>35245.0</td>\n",
       "    </tr>\n",
       "    <tr>\n",
       "      <th>247</th>\n",
       "      <td>Linkin Park</td>\n",
       "      <td>New Divide (Album Version)</td>\n",
       "      <td>35191.0</td>\n",
       "    </tr>\n",
       "    <tr>\n",
       "      <th>248</th>\n",
       "      <td>Selena Gomez &amp; The Scene</td>\n",
       "      <td>Naturally</td>\n",
       "      <td>35074.0</td>\n",
       "    </tr>\n",
       "    <tr>\n",
       "      <th>249</th>\n",
       "      <td>Creedence Clearwater Revival</td>\n",
       "      <td>Have You Ever Seen The Rain</td>\n",
       "      <td>34831.0</td>\n",
       "    </tr>\n",
       "  </tbody>\n",
       "</table>\n",
       "</div>"
      ],
      "text/plain": [
       "                      artist name                  track title  play_count\n",
       "245              Triple Six Mafia    Now I'm High_ Really High     35253.0\n",
       "246    The Red Jumpsuit Apparatus    Face Down (Album Version)     35245.0\n",
       "247                   Linkin Park   New Divide (Album Version)     35191.0\n",
       "248      Selena Gomez & The Scene                    Naturally     35074.0\n",
       "249  Creedence Clearwater Revival  Have You Ever Seen The Rain     34831.0"
      ]
     },
     "execution_count": 48,
     "metadata": {},
     "output_type": "execute_result"
    }
   ],
   "source": [
    "top_250_tracks.tail()"
   ]
  },
  {
   "cell_type": "markdown",
   "id": "c5db20f6",
   "metadata": {
    "id": "c5db20f6"
   },
   "source": [
    "### Top-100 tracks by genre\n",
    "It should return on a given genre a dataframe with the following fields: index number,\n",
    "artist name, track title, play count. The table should be sorted by the play count descendingly.\n",
    "You should only use the major genre to perform the subtask."
   ]
  },
  {
   "cell_type": "code",
   "execution_count": null,
   "id": "c0d11c17",
   "metadata": {
    "id": "c0d11c17",
    "outputId": "6021d23b-8908-4a01-fb98-30258cd8e195"
   },
   "outputs": [
    {
     "data": {
      "text/html": [
       "<div>\n",
       "<style scoped>\n",
       "    .dataframe tbody tr th:only-of-type {\n",
       "        vertical-align: middle;\n",
       "    }\n",
       "\n",
       "    .dataframe tbody tr th {\n",
       "        vertical-align: top;\n",
       "    }\n",
       "\n",
       "    .dataframe thead th {\n",
       "        text-align: right;\n",
       "    }\n",
       "</style>\n",
       "<table border=\"1\" class=\"dataframe\">\n",
       "  <thead>\n",
       "    <tr style=\"text-align: right;\">\n",
       "      <th></th>\n",
       "      <th>song_id</th>\n",
       "      <th>play_count</th>\n",
       "      <th>track_id</th>\n",
       "      <th>artist name</th>\n",
       "      <th>track title</th>\n",
       "      <th>majority_genre</th>\n",
       "      <th>minority_genre</th>\n",
       "    </tr>\n",
       "  </thead>\n",
       "  <tbody>\n",
       "    <tr>\n",
       "      <th>0</th>\n",
       "      <td>SOBONKR12A58A7A7E0</td>\n",
       "      <td>726885</td>\n",
       "      <td>TRAEHHJ12903CF492F</td>\n",
       "      <td>Dwight Yoakam</td>\n",
       "      <td>You're The One</td>\n",
       "      <td>Country</td>\n",
       "      <td>NaN</td>\n",
       "    </tr>\n",
       "    <tr>\n",
       "      <th>1</th>\n",
       "      <td>SOAUWYT12A81C206F1</td>\n",
       "      <td>648239</td>\n",
       "      <td>TRGXQES128F42BA5EB</td>\n",
       "      <td>Björk</td>\n",
       "      <td>Undo</td>\n",
       "      <td>Rock</td>\n",
       "      <td>Electronic</td>\n",
       "    </tr>\n",
       "    <tr>\n",
       "      <th>2</th>\n",
       "      <td>SOSXLTC12AF72A7F54</td>\n",
       "      <td>527893</td>\n",
       "      <td>TRONYHY128F92C9D11</td>\n",
       "      <td>Kings Of Leon</td>\n",
       "      <td>Revelry</td>\n",
       "      <td>Rock</td>\n",
       "      <td>NaN</td>\n",
       "    </tr>\n",
       "    <tr>\n",
       "      <th>3</th>\n",
       "      <td>SOFRQTD12A81C233C0</td>\n",
       "      <td>425463</td>\n",
       "      <td>TRDMBIJ128F4290431</td>\n",
       "      <td>Harmonia</td>\n",
       "      <td>Sehr kosmisch</td>\n",
       "      <td>Rock</td>\n",
       "      <td>Metal</td>\n",
       "    </tr>\n",
       "    <tr>\n",
       "      <th>4</th>\n",
       "      <td>SOEGIYH12A6D4FC0E3</td>\n",
       "      <td>389880</td>\n",
       "      <td>TRLGMFJ128F4217DBE</td>\n",
       "      <td>Barry Tuckwell/Academy of St Martin-in-the-Fie...</td>\n",
       "      <td>Horn Concerto No. 4 in E flat K495: II. Romanc...</td>\n",
       "      <td>NaN</td>\n",
       "      <td>NaN</td>\n",
       "    </tr>\n",
       "  </tbody>\n",
       "</table>\n",
       "</div>"
      ],
      "text/plain": [
       "              song_id  play_count            track_id  \\\n",
       "0  SOBONKR12A58A7A7E0      726885  TRAEHHJ12903CF492F   \n",
       "1  SOAUWYT12A81C206F1      648239  TRGXQES128F42BA5EB   \n",
       "2  SOSXLTC12AF72A7F54      527893  TRONYHY128F92C9D11   \n",
       "3  SOFRQTD12A81C233C0      425463  TRDMBIJ128F4290431   \n",
       "4  SOEGIYH12A6D4FC0E3      389880  TRLGMFJ128F4217DBE   \n",
       "\n",
       "                                         artist name  \\\n",
       "0                                      Dwight Yoakam   \n",
       "1                                              Björk   \n",
       "2                                      Kings Of Leon   \n",
       "3                                           Harmonia   \n",
       "4  Barry Tuckwell/Academy of St Martin-in-the-Fie...   \n",
       "\n",
       "                                         track title majority_genre  \\\n",
       "0                                     You're The One        Country   \n",
       "1                                               Undo           Rock   \n",
       "2                                            Revelry           Rock   \n",
       "3                                      Sehr kosmisch           Rock   \n",
       "4  Horn Concerto No. 4 in E flat K495: II. Romanc...            NaN   \n",
       "\n",
       "  minority_genre  \n",
       "0            NaN  \n",
       "1     Electronic  \n",
       "2            NaN  \n",
       "3          Metal  \n",
       "4            NaN  "
      ]
     },
     "execution_count": 232,
     "metadata": {},
     "output_type": "execute_result"
    }
   ],
   "source": [
    "play_count_track_id_genre = pd.merge(play_count_track_id, tagtraum, on='track_id', how = 'left')\n",
    "play_count_track_id_genre.head()"
   ]
  },
  {
   "cell_type": "code",
   "execution_count": null,
   "id": "c453be89",
   "metadata": {
    "id": "c453be89"
   },
   "outputs": [],
   "source": [
    "# play_count_track_id_genre = play_count_track_id_genre[~play_count_track_id_genre['majority_genre'].isna()].drop_duplicates()"
   ]
  },
  {
   "cell_type": "code",
   "execution_count": null,
   "id": "e31dc60f",
   "metadata": {
    "id": "e31dc60f"
   },
   "outputs": [],
   "source": [
    "# play_count_track_id_genre = play_count_track_id_genre.drop_duplicates()"
   ]
  },
  {
   "cell_type": "code",
   "execution_count": null,
   "id": "27e7fe65",
   "metadata": {
    "id": "27e7fe65"
   },
   "outputs": [],
   "source": [
    "# res = play_count_track_id_genre.groupby(['artist name', 'track title']).agg({'play_count':'sum', 'majority_genre': 'last'}).reset_index()"
   ]
  },
  {
   "cell_type": "code",
   "execution_count": null,
   "id": "05a2a61f",
   "metadata": {
    "id": "05a2a61f",
    "outputId": "e2dfb847-a1b4-46f9-b81c-e44b9e18c6be"
   },
   "outputs": [
    {
     "data": {
      "text/html": [
       "<div>\n",
       "<style scoped>\n",
       "    .dataframe tbody tr th:only-of-type {\n",
       "        vertical-align: middle;\n",
       "    }\n",
       "\n",
       "    .dataframe tbody tr th {\n",
       "        vertical-align: top;\n",
       "    }\n",
       "\n",
       "    .dataframe thead th {\n",
       "        text-align: right;\n",
       "    }\n",
       "</style>\n",
       "<table border=\"1\" class=\"dataframe\">\n",
       "  <thead>\n",
       "    <tr style=\"text-align: right;\">\n",
       "      <th></th>\n",
       "      <th>artist name</th>\n",
       "      <th>track title</th>\n",
       "      <th>play_count</th>\n",
       "    </tr>\n",
       "  </thead>\n",
       "  <tbody>\n",
       "    <tr>\n",
       "      <th>0</th>\n",
       "      <td>Björk</td>\n",
       "      <td>Undo</td>\n",
       "      <td>648239</td>\n",
       "    </tr>\n",
       "    <tr>\n",
       "      <th>1</th>\n",
       "      <td>Kings Of Leon</td>\n",
       "      <td>Revelry</td>\n",
       "      <td>527893</td>\n",
       "    </tr>\n",
       "    <tr>\n",
       "      <th>2</th>\n",
       "      <td>Harmonia</td>\n",
       "      <td>Sehr kosmisch</td>\n",
       "      <td>425463</td>\n",
       "    </tr>\n",
       "    <tr>\n",
       "      <th>3</th>\n",
       "      <td>OneRepublic</td>\n",
       "      <td>Secrets</td>\n",
       "      <td>292642</td>\n",
       "    </tr>\n",
       "    <tr>\n",
       "      <th>4</th>\n",
       "      <td>Tub Ring</td>\n",
       "      <td>Invalid</td>\n",
       "      <td>268353</td>\n",
       "    </tr>\n",
       "  </tbody>\n",
       "</table>\n",
       "</div>"
      ],
      "text/plain": [
       "     artist name    track title  play_count\n",
       "0          Björk           Undo      648239\n",
       "1  Kings Of Leon        Revelry      527893\n",
       "2       Harmonia  Sehr kosmisch      425463\n",
       "3    OneRepublic        Secrets      292642\n",
       "4       Tub Ring        Invalid      268353"
      ]
     },
     "execution_count": 239,
     "metadata": {},
     "output_type": "execute_result"
    }
   ],
   "source": [
    "genre = 'Rock'\n",
    "datas = play_count_track_id_genre\n",
    "if genre not in datas['majority_genre'].unique():\n",
    "    raise ValueError('нет такого названия')\n",
    "one_genre = datas[datas['majority_genre'] == genre]\\\n",
    "[['artist name', 'track title', 'play_count']]\n",
    "top_100_genre = one_genre.sort_values('play_count', ascending = False).iloc[:100]\n",
    "top_100_genre = top_100_genre.reset_index().drop('index', axis=1)\n",
    "top_100_genre.head()"
   ]
  },
  {
   "cell_type": "code",
   "execution_count": null,
   "id": "4d6eb018",
   "metadata": {
    "id": "4d6eb018",
    "outputId": "abdbacf5-0864-4f29-ebcc-53e46700e397"
   },
   "outputs": [
    {
     "data": {
      "text/html": [
       "<div>\n",
       "<style scoped>\n",
       "    .dataframe tbody tr th:only-of-type {\n",
       "        vertical-align: middle;\n",
       "    }\n",
       "\n",
       "    .dataframe tbody tr th {\n",
       "        vertical-align: top;\n",
       "    }\n",
       "\n",
       "    .dataframe thead th {\n",
       "        text-align: right;\n",
       "    }\n",
       "</style>\n",
       "<table border=\"1\" class=\"dataframe\">\n",
       "  <thead>\n",
       "    <tr style=\"text-align: right;\">\n",
       "      <th></th>\n",
       "      <th>artist name</th>\n",
       "      <th>track title</th>\n",
       "      <th>play_count</th>\n",
       "    </tr>\n",
       "  </thead>\n",
       "  <tbody>\n",
       "    <tr>\n",
       "      <th>95</th>\n",
       "      <td>Train</td>\n",
       "      <td>Drops Of Jupiter</td>\n",
       "      <td>26547</td>\n",
       "    </tr>\n",
       "    <tr>\n",
       "      <th>96</th>\n",
       "      <td>Skillet</td>\n",
       "      <td>Hero (Album Version)</td>\n",
       "      <td>26542</td>\n",
       "    </tr>\n",
       "    <tr>\n",
       "      <th>97</th>\n",
       "      <td>Queen</td>\n",
       "      <td>Love Of My Life (1993 Digital Remaster)</td>\n",
       "      <td>26393</td>\n",
       "    </tr>\n",
       "    <tr>\n",
       "      <th>98</th>\n",
       "      <td>Blind Melon</td>\n",
       "      <td>No Rain</td>\n",
       "      <td>26306</td>\n",
       "    </tr>\n",
       "    <tr>\n",
       "      <th>99</th>\n",
       "      <td>Soda Stereo</td>\n",
       "      <td>Observándonos (Satélites)</td>\n",
       "      <td>26291</td>\n",
       "    </tr>\n",
       "  </tbody>\n",
       "</table>\n",
       "</div>"
      ],
      "text/plain": [
       "    artist name                              track title  play_count\n",
       "95        Train                         Drops Of Jupiter       26547\n",
       "96      Skillet                     Hero (Album Version)       26542\n",
       "97        Queen  Love Of My Life (1993 Digital Remaster)       26393\n",
       "98  Blind Melon                                  No Rain       26306\n",
       "99  Soda Stereo                Observándonos (Satélites)       26291"
      ]
     },
     "execution_count": 240,
     "metadata": {},
     "output_type": "execute_result"
    }
   ],
   "source": [
    "top_100_genre.tail()"
   ]
  },
  {
   "cell_type": "markdown",
   "id": "6ab0de8e",
   "metadata": {
    "id": "6ab0de8e"
   },
   "source": [
    "### Collections\n",
    "\n",
    " Content-based approach. 50 songs about love, 50 songs about war, 50 songs about happiness, 50\n",
    "songs about loneliness, 50 songs about money.\n",
    "\n",
    "\n",
    "It should return on a given keyword (love, war, happiness) a dataframe (50 tracks) with\n",
    "the following fields: index number, artist name, track title, play count. The table should be\n",
    "sorted by the play count descendingly. Try different approaches to these recommendations:\n",
    "\n",
    "\n",
    "• baseline - when you look for the keyword and the number of its occurrences in a\n",
    "song, filter using some threshold and then sorting it by the play count,"
   ]
  },
  {
   "cell_type": "code",
   "execution_count": 1,
   "id": "d570512b",
   "metadata": {
    "id": "d570512b"
   },
   "outputs": [],
   "source": [
    "keyword = 'war'\n",
    "keyword = {'happiness': 'happi', 'loneliness': 'lone'}.get(keyword, keyword)\n",
    "keywords = ['love', 'war', 'happi', 'lone', 'money']\n",
    "if keyword not in keywords:\n",
    "    raise ValueError('нет такого ключевого слова')"
   ]
  },
  {
   "cell_type": "code",
   "execution_count": null,
   "id": "6dd681f3",
   "metadata": {
    "id": "6dd681f3"
   },
   "outputs": [],
   "source": [
    "# with open('data/P02. MySpotify/mxm_dataset_train_header.txt') as file:\n",
    "#     keyword_number = {}\n",
    "#     file = list(file)[0].split(',')\n",
    "#     for en, word in enumerate(file):\n",
    "#         if word in keywords:\n",
    "#             keyword_number[word] = en + 1\n",
    "keyword_number = {'love': 27, 'happi': 355, 'war': 361, 'lone': 367, 'money': 409}"
   ]
  },
  {
   "cell_type": "code",
   "execution_count": null,
   "id": "14e16cb1",
   "metadata": {
    "id": "14e16cb1"
   },
   "outputs": [],
   "source": [
    "data = mxm_dataset.values"
   ]
  },
  {
   "cell_type": "code",
   "execution_count": null,
   "id": "2cbb20bb",
   "metadata": {
    "id": "2cbb20bb"
   },
   "outputs": [],
   "source": [
    "num = str(keyword_number[keyword])\n",
    "ans = []\n",
    "for line in data:\n",
    "    for i in line[2:]:\n",
    "        if not isinstance(i, str):\n",
    "            break\n",
    "        mas = i.split(':')\n",
    "        if mas[0] == num:\n",
    "            ans.append([line[0], int(mas[1])])\n",
    "            break"
   ]
  },
  {
   "cell_type": "code",
   "execution_count": null,
   "id": "693afc87",
   "metadata": {
    "id": "693afc87"
   },
   "outputs": [],
   "source": [
    "def get_top_50_keyword(ans):\n",
    "    ans_filt = sorted(ans, key = lambda x: x[1] ,reverse=True)[:100]\n",
    "    track_keyword = pd.DataFrame(ans_filt, columns=['track_id', '-'])['track_id']\n",
    "    all_tabell_keyword = pd.merge(track_keyword, play_count_track_id_genre, how = 'inner', on = 'track_id')\n",
    "    \n",
    "    top_50_keyword = all_tabell_keyword.sort_values('play_count', ascending = False).iloc[:50]\n",
    "    top_50_keyword = top_50_keyword.reset_index().drop('index', axis=1)[['artist name', 'track title', 'play_count']]\n",
    "    return top_50_keyword"
   ]
  },
  {
   "cell_type": "code",
   "execution_count": null,
   "id": "0c12848c",
   "metadata": {
    "id": "0c12848c",
    "outputId": "9a05de24-bff3-4f23-fbfc-e5e714c5a436"
   },
   "outputs": [
    {
     "data": {
      "text/html": [
       "<div>\n",
       "<style scoped>\n",
       "    .dataframe tbody tr th:only-of-type {\n",
       "        vertical-align: middle;\n",
       "    }\n",
       "\n",
       "    .dataframe tbody tr th {\n",
       "        vertical-align: top;\n",
       "    }\n",
       "\n",
       "    .dataframe thead th {\n",
       "        text-align: right;\n",
       "    }\n",
       "</style>\n",
       "<table border=\"1\" class=\"dataframe\">\n",
       "  <thead>\n",
       "    <tr style=\"text-align: right;\">\n",
       "      <th></th>\n",
       "      <th>artist name</th>\n",
       "      <th>track title</th>\n",
       "      <th>play_count</th>\n",
       "    </tr>\n",
       "  </thead>\n",
       "  <tbody>\n",
       "    <tr>\n",
       "      <th>0</th>\n",
       "      <td>Guns N' Roses</td>\n",
       "      <td>Civil War</td>\n",
       "      <td>22893.0</td>\n",
       "    </tr>\n",
       "    <tr>\n",
       "      <th>1</th>\n",
       "      <td>Kanye West</td>\n",
       "      <td>The Glory</td>\n",
       "      <td>3934.0</td>\n",
       "    </tr>\n",
       "    <tr>\n",
       "      <th>2</th>\n",
       "      <td>Cobra Starship</td>\n",
       "      <td>The City Is At War (Album Version)</td>\n",
       "      <td>3480.0</td>\n",
       "    </tr>\n",
       "    <tr>\n",
       "      <th>3</th>\n",
       "      <td>Iration</td>\n",
       "      <td>Love/Hate</td>\n",
       "      <td>2370.0</td>\n",
       "    </tr>\n",
       "    <tr>\n",
       "      <th>4</th>\n",
       "      <td>Rage Against The Machine</td>\n",
       "      <td>Township Rebellion</td>\n",
       "      <td>1644.0</td>\n",
       "    </tr>\n",
       "    <tr>\n",
       "      <th>5</th>\n",
       "      <td>Cat Power</td>\n",
       "      <td>He War</td>\n",
       "      <td>1369.0</td>\n",
       "    </tr>\n",
       "    <tr>\n",
       "      <th>6</th>\n",
       "      <td>Stars</td>\n",
       "      <td>In Our Bedroom After The War</td>\n",
       "      <td>1172.0</td>\n",
       "    </tr>\n",
       "    <tr>\n",
       "      <th>7</th>\n",
       "      <td>Story Of The Year</td>\n",
       "      <td>Welcome To Our New War</td>\n",
       "      <td>664.0</td>\n",
       "    </tr>\n",
       "    <tr>\n",
       "      <th>8</th>\n",
       "      <td>Iron Maiden</td>\n",
       "      <td>The Aftermath</td>\n",
       "      <td>578.0</td>\n",
       "    </tr>\n",
       "    <tr>\n",
       "      <th>9</th>\n",
       "      <td>Burzum</td>\n",
       "      <td>War</td>\n",
       "      <td>564.0</td>\n",
       "    </tr>\n",
       "    <tr>\n",
       "      <th>10</th>\n",
       "      <td>Wir Sind Helden</td>\n",
       "      <td>Von Hier An Blind</td>\n",
       "      <td>512.0</td>\n",
       "    </tr>\n",
       "    <tr>\n",
       "      <th>11</th>\n",
       "      <td>Funkadelic</td>\n",
       "      <td>Electric Spanking Of War Babies</td>\n",
       "      <td>495.0</td>\n",
       "    </tr>\n",
       "    <tr>\n",
       "      <th>12</th>\n",
       "      <td>Ben Folds Five</td>\n",
       "      <td>Missing The War</td>\n",
       "      <td>470.0</td>\n",
       "    </tr>\n",
       "    <tr>\n",
       "      <th>13</th>\n",
       "      <td>Wizo</td>\n",
       "      <td>Kopfschuss</td>\n",
       "      <td>311.0</td>\n",
       "    </tr>\n",
       "    <tr>\n",
       "      <th>14</th>\n",
       "      <td>Eric B. &amp; Rakim</td>\n",
       "      <td>Casualties Of War</td>\n",
       "      <td>308.0</td>\n",
       "    </tr>\n",
       "    <tr>\n",
       "      <th>15</th>\n",
       "      <td>Sade</td>\n",
       "      <td>War Of The Hearts</td>\n",
       "      <td>299.0</td>\n",
       "    </tr>\n",
       "    <tr>\n",
       "      <th>16</th>\n",
       "      <td>Fischerspooner</td>\n",
       "      <td>We Need A War</td>\n",
       "      <td>253.0</td>\n",
       "    </tr>\n",
       "    <tr>\n",
       "      <th>17</th>\n",
       "      <td>LL Cool J</td>\n",
       "      <td>It's Time For War</td>\n",
       "      <td>244.0</td>\n",
       "    </tr>\n",
       "    <tr>\n",
       "      <th>18</th>\n",
       "      <td>Moriarty</td>\n",
       "      <td>Private Lily</td>\n",
       "      <td>216.0</td>\n",
       "    </tr>\n",
       "    <tr>\n",
       "      <th>19</th>\n",
       "      <td>Le Tigre</td>\n",
       "      <td>New Kicks</td>\n",
       "      <td>215.0</td>\n",
       "    </tr>\n",
       "    <tr>\n",
       "      <th>20</th>\n",
       "      <td>Frankie Goes To Hollywood</td>\n",
       "      <td>War</td>\n",
       "      <td>213.0</td>\n",
       "    </tr>\n",
       "    <tr>\n",
       "      <th>21</th>\n",
       "      <td>Shadows Fall</td>\n",
       "      <td>War</td>\n",
       "      <td>212.0</td>\n",
       "    </tr>\n",
       "    <tr>\n",
       "      <th>22</th>\n",
       "      <td>Country Joe McDonald</td>\n",
       "      <td>The Call</td>\n",
       "      <td>210.0</td>\n",
       "    </tr>\n",
       "    <tr>\n",
       "      <th>23</th>\n",
       "      <td>DMX</td>\n",
       "      <td>Ready To Meet Him</td>\n",
       "      <td>161.0</td>\n",
       "    </tr>\n",
       "    <tr>\n",
       "      <th>24</th>\n",
       "      <td>The Human Abstract</td>\n",
       "      <td>Counting Down The Days</td>\n",
       "      <td>143.0</td>\n",
       "    </tr>\n",
       "    <tr>\n",
       "      <th>25</th>\n",
       "      <td>Magnitude 9</td>\n",
       "      <td>Dead In Their Tracks</td>\n",
       "      <td>119.0</td>\n",
       "    </tr>\n",
       "    <tr>\n",
       "      <th>26</th>\n",
       "      <td>Suicidal Tendencies</td>\n",
       "      <td>War Inside My Head</td>\n",
       "      <td>109.0</td>\n",
       "    </tr>\n",
       "    <tr>\n",
       "      <th>27</th>\n",
       "      <td>Nikka Costa</td>\n",
       "      <td>Tug Of War</td>\n",
       "      <td>100.0</td>\n",
       "    </tr>\n",
       "    <tr>\n",
       "      <th>28</th>\n",
       "      <td>bloodsimple (featuring Chad Gray)</td>\n",
       "      <td>Falling Backwards (Album Version)</td>\n",
       "      <td>99.0</td>\n",
       "    </tr>\n",
       "    <tr>\n",
       "      <th>29</th>\n",
       "      <td>Burning Spear</td>\n",
       "      <td>No More War</td>\n",
       "      <td>87.0</td>\n",
       "    </tr>\n",
       "    <tr>\n",
       "      <th>30</th>\n",
       "      <td>Frank Black</td>\n",
       "      <td>Dance War</td>\n",
       "      <td>84.0</td>\n",
       "    </tr>\n",
       "    <tr>\n",
       "      <th>31</th>\n",
       "      <td>bathory</td>\n",
       "      <td>War</td>\n",
       "      <td>82.0</td>\n",
       "    </tr>\n",
       "    <tr>\n",
       "      <th>32</th>\n",
       "      <td>10_000 Maniacs</td>\n",
       "      <td>My Mother The War (LP Version)</td>\n",
       "      <td>71.0</td>\n",
       "    </tr>\n",
       "    <tr>\n",
       "      <th>33</th>\n",
       "      <td>Boyz II Men</td>\n",
       "      <td>War</td>\n",
       "      <td>66.0</td>\n",
       "    </tr>\n",
       "    <tr>\n",
       "      <th>34</th>\n",
       "      <td>Aeon</td>\n",
       "      <td>When The War Comes</td>\n",
       "      <td>61.0</td>\n",
       "    </tr>\n",
       "    <tr>\n",
       "      <th>35</th>\n",
       "      <td>4 Promille</td>\n",
       "      <td>Export</td>\n",
       "      <td>57.0</td>\n",
       "    </tr>\n",
       "    <tr>\n",
       "      <th>36</th>\n",
       "      <td>Ektomorf</td>\n",
       "      <td>Rat War</td>\n",
       "      <td>51.0</td>\n",
       "    </tr>\n",
       "    <tr>\n",
       "      <th>37</th>\n",
       "      <td>Rancid</td>\n",
       "      <td>Killing Zone</td>\n",
       "      <td>50.0</td>\n",
       "    </tr>\n",
       "    <tr>\n",
       "      <th>38</th>\n",
       "      <td>Master P</td>\n",
       "      <td>War Wounds (Explicit)</td>\n",
       "      <td>48.0</td>\n",
       "    </tr>\n",
       "    <tr>\n",
       "      <th>39</th>\n",
       "      <td>Joan Osborne</td>\n",
       "      <td>War</td>\n",
       "      <td>47.0</td>\n",
       "    </tr>\n",
       "    <tr>\n",
       "      <th>40</th>\n",
       "      <td>NOFX</td>\n",
       "      <td>Intro / Glass War</td>\n",
       "      <td>37.0</td>\n",
       "    </tr>\n",
       "    <tr>\n",
       "      <th>41</th>\n",
       "      <td>Monsters of Liedermaching</td>\n",
       "      <td>Der Fisch</td>\n",
       "      <td>37.0</td>\n",
       "    </tr>\n",
       "    <tr>\n",
       "      <th>42</th>\n",
       "      <td>Cora E.</td>\n",
       "      <td>Schlüsselkind (Busy's Fat Remix)</td>\n",
       "      <td>31.0</td>\n",
       "    </tr>\n",
       "    <tr>\n",
       "      <th>43</th>\n",
       "      <td>Phil Ochs</td>\n",
       "      <td>One More Parade (LP Version)</td>\n",
       "      <td>29.0</td>\n",
       "    </tr>\n",
       "    <tr>\n",
       "      <th>44</th>\n",
       "      <td>Sportfreunde Stiller</td>\n",
       "      <td>Spitze</td>\n",
       "      <td>28.0</td>\n",
       "    </tr>\n",
       "    <tr>\n",
       "      <th>45</th>\n",
       "      <td>SINERGY</td>\n",
       "      <td>Lead Us To War</td>\n",
       "      <td>25.0</td>\n",
       "    </tr>\n",
       "    <tr>\n",
       "      <th>46</th>\n",
       "      <td>Reinhard Mey</td>\n",
       "      <td>Mein Berlin</td>\n",
       "      <td>23.0</td>\n",
       "    </tr>\n",
       "    <tr>\n",
       "      <th>47</th>\n",
       "      <td>Rita Marley</td>\n",
       "      <td>My Kind Of War</td>\n",
       "      <td>20.0</td>\n",
       "    </tr>\n",
       "    <tr>\n",
       "      <th>48</th>\n",
       "      <td>Atari Teenage Riot</td>\n",
       "      <td>The Future Of War</td>\n",
       "      <td>16.0</td>\n",
       "    </tr>\n",
       "    <tr>\n",
       "      <th>49</th>\n",
       "      <td>The Slackers</td>\n",
       "      <td>Real War</td>\n",
       "      <td>15.0</td>\n",
       "    </tr>\n",
       "  </tbody>\n",
       "</table>\n",
       "</div>"
      ],
      "text/plain": [
       "                          artist name                         track title  \\\n",
       "0                       Guns N' Roses                           Civil War   \n",
       "1                          Kanye West                           The Glory   \n",
       "2                      Cobra Starship  The City Is At War (Album Version)   \n",
       "3                             Iration                           Love/Hate   \n",
       "4            Rage Against The Machine                  Township Rebellion   \n",
       "5                           Cat Power                              He War   \n",
       "6                               Stars        In Our Bedroom After The War   \n",
       "7                   Story Of The Year              Welcome To Our New War   \n",
       "8                         Iron Maiden                       The Aftermath   \n",
       "9                              Burzum                                 War   \n",
       "10                    Wir Sind Helden                   Von Hier An Blind   \n",
       "11                         Funkadelic     Electric Spanking Of War Babies   \n",
       "12                     Ben Folds Five                     Missing The War   \n",
       "13                               Wizo                          Kopfschuss   \n",
       "14                    Eric B. & Rakim                   Casualties Of War   \n",
       "15                               Sade                   War Of The Hearts   \n",
       "16                     Fischerspooner                       We Need A War   \n",
       "17                          LL Cool J                   It's Time For War   \n",
       "18                           Moriarty                        Private Lily   \n",
       "19                           Le Tigre                           New Kicks   \n",
       "20          Frankie Goes To Hollywood                                 War   \n",
       "21                       Shadows Fall                                 War   \n",
       "22               Country Joe McDonald                            The Call   \n",
       "23                                DMX                   Ready To Meet Him   \n",
       "24                 The Human Abstract              Counting Down The Days   \n",
       "25                        Magnitude 9                Dead In Their Tracks   \n",
       "26                Suicidal Tendencies                  War Inside My Head   \n",
       "27                        Nikka Costa                          Tug Of War   \n",
       "28  bloodsimple (featuring Chad Gray)   Falling Backwards (Album Version)   \n",
       "29                      Burning Spear                         No More War   \n",
       "30                        Frank Black                           Dance War   \n",
       "31                            bathory                                 War   \n",
       "32                     10_000 Maniacs      My Mother The War (LP Version)   \n",
       "33                        Boyz II Men                                 War   \n",
       "34                               Aeon                  When The War Comes   \n",
       "35                         4 Promille                              Export   \n",
       "36                           Ektomorf                             Rat War   \n",
       "37                             Rancid                        Killing Zone   \n",
       "38                           Master P               War Wounds (Explicit)   \n",
       "39                       Joan Osborne                                 War   \n",
       "40                               NOFX                   Intro / Glass War   \n",
       "41          Monsters of Liedermaching                           Der Fisch   \n",
       "42                            Cora E.    Schlüsselkind (Busy's Fat Remix)   \n",
       "43                          Phil Ochs        One More Parade (LP Version)   \n",
       "44               Sportfreunde Stiller                              Spitze   \n",
       "45                            SINERGY                      Lead Us To War   \n",
       "46                       Reinhard Mey                         Mein Berlin   \n",
       "47                        Rita Marley                      My Kind Of War   \n",
       "48                 Atari Teenage Riot                   The Future Of War   \n",
       "49                       The Slackers                            Real War   \n",
       "\n",
       "    play_count  \n",
       "0      22893.0  \n",
       "1       3934.0  \n",
       "2       3480.0  \n",
       "3       2370.0  \n",
       "4       1644.0  \n",
       "5       1369.0  \n",
       "6       1172.0  \n",
       "7        664.0  \n",
       "8        578.0  \n",
       "9        564.0  \n",
       "10       512.0  \n",
       "11       495.0  \n",
       "12       470.0  \n",
       "13       311.0  \n",
       "14       308.0  \n",
       "15       299.0  \n",
       "16       253.0  \n",
       "17       244.0  \n",
       "18       216.0  \n",
       "19       215.0  \n",
       "20       213.0  \n",
       "21       212.0  \n",
       "22       210.0  \n",
       "23       161.0  \n",
       "24       143.0  \n",
       "25       119.0  \n",
       "26       109.0  \n",
       "27       100.0  \n",
       "28        99.0  \n",
       "29        87.0  \n",
       "30        84.0  \n",
       "31        82.0  \n",
       "32        71.0  \n",
       "33        66.0  \n",
       "34        61.0  \n",
       "35        57.0  \n",
       "36        51.0  \n",
       "37        50.0  \n",
       "38        48.0  \n",
       "39        47.0  \n",
       "40        37.0  \n",
       "41        37.0  \n",
       "42        31.0  \n",
       "43        29.0  \n",
       "44        28.0  \n",
       "45        25.0  \n",
       "46        23.0  \n",
       "47        20.0  \n",
       "48        16.0  \n",
       "49        15.0  "
      ]
     },
     "execution_count": 189,
     "metadata": {},
     "output_type": "execute_result"
    }
   ],
   "source": [
    "get_top_50_keyword(ans)"
   ]
  },
  {
   "cell_type": "markdown",
   "id": "50bc99e2",
   "metadata": {
    "id": "50bc99e2"
   },
   "source": [
    "• word2vec - when you look not only for the keyword but for several similar tokens\n",
    "as well using word2vec,"
   ]
  },
  {
   "cell_type": "code",
   "execution_count": null,
   "id": "4806c380",
   "metadata": {
    "id": "4806c380"
   },
   "outputs": [],
   "source": [
    "with open('data/P02. MySpotify/mxm_dataset_train_header.txt') as file:\n",
    "    file = list(file)[0].split(',')\n",
    "    word_number = {}\n",
    "    for en, word in enumerate(file):\n",
    "        word_number[str(en + 1)] = word"
   ]
  },
  {
   "cell_type": "code",
   "execution_count": null,
   "id": "e86edb3a",
   "metadata": {
    "id": "e86edb3a"
   },
   "outputs": [],
   "source": [
    "corpus = gensim.downloader.load('text8')\n",
    "model = Word2Vec(corpus)\n",
    "keyword_vec = model.wv[keyword]"
   ]
  },
  {
   "cell_type": "code",
   "execution_count": null,
   "id": "73f1e7ae",
   "metadata": {
    "id": "73f1e7ae"
   },
   "outputs": [],
   "source": [
    "all_mas = []\n",
    "for line in data:\n",
    "    mas = [line[0]]\n",
    "    for i in line[2:]:\n",
    "        if not isinstance(i, str):\n",
    "            break\n",
    "        ints = i.split(':')[0]\n",
    "        try:\n",
    "            res = model.wv[word_number[ints]]\n",
    "        except:\n",
    "            res = 0\n",
    "        mas.append(res)\n",
    "    all_mas.append(mas)"
   ]
  },
  {
   "cell_type": "code",
   "execution_count": null,
   "id": "e3b16029",
   "metadata": {
    "id": "e3b16029",
    "outputId": "a22e6ffc-fec7-4880-a5a1-a89d4c22d340"
   },
   "outputs": [
    {
     "name": "stderr",
     "output_type": "stream",
     "text": [
      "/Users/ila/opt/anaconda3/lib/python3.8/site-packages/scipy/spatial/distance.py:728: RuntimeWarning: invalid value encountered in double_scalars\n",
      "  dist = 1.0 - uv / np.sqrt(uu * vv)\n"
     ]
    }
   ],
   "source": [
    "sum_cos = [[line[0], sum(map(lambda x: 1 - cosine(x, keyword_vec), line[1:]))] for line in all_mas]"
   ]
  },
  {
   "cell_type": "code",
   "execution_count": null,
   "id": "78634693",
   "metadata": {
    "id": "78634693"
   },
   "outputs": [],
   "source": [
    "# with open('./data/P02. MySpotify/w2v_collect.pickle', 'wb') as f:\n",
    "#     pickle.dump(all_mas, f)"
   ]
  },
  {
   "cell_type": "code",
   "execution_count": null,
   "id": "cab6e81d",
   "metadata": {
    "id": "cab6e81d",
    "outputId": "a57bc742-67cd-4444-db10-a2d15e80b5c6"
   },
   "outputs": [
    {
     "data": {
      "text/html": [
       "<div>\n",
       "<style scoped>\n",
       "    .dataframe tbody tr th:only-of-type {\n",
       "        vertical-align: middle;\n",
       "    }\n",
       "\n",
       "    .dataframe tbody tr th {\n",
       "        vertical-align: top;\n",
       "    }\n",
       "\n",
       "    .dataframe thead th {\n",
       "        text-align: right;\n",
       "    }\n",
       "</style>\n",
       "<table border=\"1\" class=\"dataframe\">\n",
       "  <thead>\n",
       "    <tr style=\"text-align: right;\">\n",
       "      <th></th>\n",
       "      <th>artist name</th>\n",
       "      <th>track title</th>\n",
       "      <th>play_count</th>\n",
       "    </tr>\n",
       "  </thead>\n",
       "  <tbody>\n",
       "    <tr>\n",
       "      <th>0</th>\n",
       "      <td>Black Eyed Peas</td>\n",
       "      <td>Let's Get It Started</td>\n",
       "      <td>20511</td>\n",
       "    </tr>\n",
       "    <tr>\n",
       "      <th>1</th>\n",
       "      <td>Tracy Chapman</td>\n",
       "      <td>Fast Car (LP Version)</td>\n",
       "      <td>16475</td>\n",
       "    </tr>\n",
       "    <tr>\n",
       "      <th>2</th>\n",
       "      <td>Big Drill Car</td>\n",
       "      <td>The Shake</td>\n",
       "      <td>5184</td>\n",
       "    </tr>\n",
       "    <tr>\n",
       "      <th>3</th>\n",
       "      <td>Man Man</td>\n",
       "      <td>The Ballad Of Butter Beans</td>\n",
       "      <td>3276</td>\n",
       "    </tr>\n",
       "    <tr>\n",
       "      <th>4</th>\n",
       "      <td>The Kooks</td>\n",
       "      <td>One Last Time</td>\n",
       "      <td>2848</td>\n",
       "    </tr>\n",
       "  </tbody>\n",
       "</table>\n",
       "</div>"
      ],
      "text/plain": [
       "       artist name                 track title  play_count\n",
       "0  Black Eyed Peas        Let's Get It Started       20511\n",
       "1    Tracy Chapman       Fast Car (LP Version)       16475\n",
       "2    Big Drill Car                   The Shake        5184\n",
       "3          Man Man  The Ballad Of Butter Beans        3276\n",
       "4        The Kooks               One Last Time        2848"
      ]
     },
     "execution_count": 255,
     "metadata": {},
     "output_type": "execute_result"
    }
   ],
   "source": [
    "get_top_50_keyword(sum_cos).head()"
   ]
  },
  {
   "cell_type": "markdown",
   "id": "ef8db1e4",
   "metadata": {
    "id": "ef8db1e4"
   },
   "source": [
    "### People similar to you listen \n",
    "Collaborative filtering approach.\n",
    "\n",
    "For these recommendations, you need to use the train/test split approach. In this case,\n",
    "the best practice is to cut a sub-matrix from the user-item matrix for the test dataset\n",
    "and the other parts to use for the train.\n",
    "\n",
    "To assess your recommendations use the metric p@k (precision at k). It shows the\n",
    "percentage of the correct recommendations from your list. It means, that if you gave\n",
    "a user 10 tracks to listen and if they liked 3 of them (they really listen to them in the\n",
    "test dataset), then the p@k will be equal to 30%. Calculate the average p@k for your\n",
    "recommendations. It should be at least greater than 10%.\n",
    "\n",
    "The script should return 10 recommendations for a given user in a dataframe: index\n",
    "number, artist name, track title. The table should be sorted descendingly by the “likelihood”\n",
    "that any given user will “like” the track.\n"
   ]
  },
  {
   "cell_type": "code",
   "execution_count": null,
   "id": "d113efce",
   "metadata": {
    "id": "d113efce",
    "outputId": "f5d0ef79-1e26-4221-a533-f0a8082aa1de"
   },
   "outputs": [
    {
     "data": {
      "text/html": [
       "<div>\n",
       "<style scoped>\n",
       "    .dataframe tbody tr th:only-of-type {\n",
       "        vertical-align: middle;\n",
       "    }\n",
       "\n",
       "    .dataframe tbody tr th {\n",
       "        vertical-align: top;\n",
       "    }\n",
       "\n",
       "    .dataframe thead th {\n",
       "        text-align: right;\n",
       "    }\n",
       "</style>\n",
       "<table border=\"1\" class=\"dataframe\">\n",
       "  <thead>\n",
       "    <tr style=\"text-align: right;\">\n",
       "      <th></th>\n",
       "      <th>user_id</th>\n",
       "      <th>song_id</th>\n",
       "      <th>play_count</th>\n",
       "    </tr>\n",
       "  </thead>\n",
       "  <tbody>\n",
       "    <tr>\n",
       "      <th>0</th>\n",
       "      <td>b80344d063b5ccb3212f76538f3d9e43d87dca9e</td>\n",
       "      <td>SOAKIMP12A8C130995</td>\n",
       "      <td>1</td>\n",
       "    </tr>\n",
       "    <tr>\n",
       "      <th>1</th>\n",
       "      <td>b80344d063b5ccb3212f76538f3d9e43d87dca9e</td>\n",
       "      <td>SOAPDEY12A81C210A9</td>\n",
       "      <td>1</td>\n",
       "    </tr>\n",
       "    <tr>\n",
       "      <th>2</th>\n",
       "      <td>b80344d063b5ccb3212f76538f3d9e43d87dca9e</td>\n",
       "      <td>SOBBMDR12A8C13253B</td>\n",
       "      <td>2</td>\n",
       "    </tr>\n",
       "    <tr>\n",
       "      <th>3</th>\n",
       "      <td>b80344d063b5ccb3212f76538f3d9e43d87dca9e</td>\n",
       "      <td>SOBFNSP12AF72A0E22</td>\n",
       "      <td>1</td>\n",
       "    </tr>\n",
       "    <tr>\n",
       "      <th>4</th>\n",
       "      <td>b80344d063b5ccb3212f76538f3d9e43d87dca9e</td>\n",
       "      <td>SOBFOVM12A58A7D494</td>\n",
       "      <td>1</td>\n",
       "    </tr>\n",
       "    <tr>\n",
       "      <th>...</th>\n",
       "      <td>...</td>\n",
       "      <td>...</td>\n",
       "      <td>...</td>\n",
       "    </tr>\n",
       "    <tr>\n",
       "      <th>48373581</th>\n",
       "      <td>b7815dbb206eb2831ce0fe040d0aa537e2e800f7</td>\n",
       "      <td>SOUHHHH12AF729E4AF</td>\n",
       "      <td>2</td>\n",
       "    </tr>\n",
       "    <tr>\n",
       "      <th>48373582</th>\n",
       "      <td>b7815dbb206eb2831ce0fe040d0aa537e2e800f7</td>\n",
       "      <td>SOUJVIT12A8C1451C1</td>\n",
       "      <td>1</td>\n",
       "    </tr>\n",
       "    <tr>\n",
       "      <th>48373583</th>\n",
       "      <td>b7815dbb206eb2831ce0fe040d0aa537e2e800f7</td>\n",
       "      <td>SOUSMXX12AB0185C24</td>\n",
       "      <td>1</td>\n",
       "    </tr>\n",
       "    <tr>\n",
       "      <th>48373584</th>\n",
       "      <td>b7815dbb206eb2831ce0fe040d0aa537e2e800f7</td>\n",
       "      <td>SOWYSKH12AF72A303A</td>\n",
       "      <td>3</td>\n",
       "    </tr>\n",
       "    <tr>\n",
       "      <th>48373585</th>\n",
       "      <td>b7815dbb206eb2831ce0fe040d0aa537e2e800f7</td>\n",
       "      <td>SOYYFLV12A58A7A88F</td>\n",
       "      <td>1</td>\n",
       "    </tr>\n",
       "  </tbody>\n",
       "</table>\n",
       "<p>48373586 rows × 3 columns</p>\n",
       "</div>"
      ],
      "text/plain": [
       "                                           user_id             song_id  \\\n",
       "0         b80344d063b5ccb3212f76538f3d9e43d87dca9e  SOAKIMP12A8C130995   \n",
       "1         b80344d063b5ccb3212f76538f3d9e43d87dca9e  SOAPDEY12A81C210A9   \n",
       "2         b80344d063b5ccb3212f76538f3d9e43d87dca9e  SOBBMDR12A8C13253B   \n",
       "3         b80344d063b5ccb3212f76538f3d9e43d87dca9e  SOBFNSP12AF72A0E22   \n",
       "4         b80344d063b5ccb3212f76538f3d9e43d87dca9e  SOBFOVM12A58A7D494   \n",
       "...                                            ...                 ...   \n",
       "48373581  b7815dbb206eb2831ce0fe040d0aa537e2e800f7  SOUHHHH12AF729E4AF   \n",
       "48373582  b7815dbb206eb2831ce0fe040d0aa537e2e800f7  SOUJVIT12A8C1451C1   \n",
       "48373583  b7815dbb206eb2831ce0fe040d0aa537e2e800f7  SOUSMXX12AB0185C24   \n",
       "48373584  b7815dbb206eb2831ce0fe040d0aa537e2e800f7  SOWYSKH12AF72A303A   \n",
       "48373585  b7815dbb206eb2831ce0fe040d0aa537e2e800f7  SOYYFLV12A58A7A88F   \n",
       "\n",
       "          play_count  \n",
       "0                  1  \n",
       "1                  1  \n",
       "2                  2  \n",
       "3                  1  \n",
       "4                  1  \n",
       "...              ...  \n",
       "48373581           2  \n",
       "48373582           1  \n",
       "48373583           1  \n",
       "48373584           3  \n",
       "48373585           1  \n",
       "\n",
       "[48373586 rows x 3 columns]"
      ]
     },
     "execution_count": 4,
     "metadata": {},
     "output_type": "execute_result"
    }
   ],
   "source": [
    "triplets"
   ]
  },
  {
   "cell_type": "code",
   "execution_count": null,
   "id": "88ad4c4b",
   "metadata": {
    "id": "88ad4c4b"
   },
   "outputs": [],
   "source": [
    "count_song_us= triplets.groupby('song_id')['user_id'].count()"
   ]
  },
  {
   "cell_type": "code",
   "execution_count": null,
   "id": "64f9791c",
   "metadata": {
    "id": "64f9791c"
   },
   "outputs": [],
   "source": [
    "# plt.figure(figsize=(15,10))\n",
    "topsong = count_song_us[(count_song_us > 10) & (count_song_us < 200)]"
   ]
  },
  {
   "cell_type": "code",
   "execution_count": null,
   "id": "10ba4ce3",
   "metadata": {
    "id": "10ba4ce3",
    "outputId": "e9fc2adc-e752-40b5-a07c-47a6b8f6e806"
   },
   "outputs": [
    {
     "name": "stderr",
     "output_type": "stream",
     "text": [
      "<ipython-input-7-3cf5ca8304d4>:2: SettingWithCopyWarning: \n",
      "A value is trying to be set on a copy of a slice from a DataFrame.\n",
      "Try using .loc[row_indexer,col_indexer] = value instead\n",
      "\n",
      "See the caveats in the documentation: https://pandas.pydata.org/pandas-docs/stable/user_guide/indexing.html#returning-a-view-versus-a-copy\n",
      "  toptriplets['song_id_num'] = toptriplets['song_id'].astype('category').cat.codes\n"
     ]
    },
    {
     "data": {
      "text/html": [
       "<div>\n",
       "<style scoped>\n",
       "    .dataframe tbody tr th:only-of-type {\n",
       "        vertical-align: middle;\n",
       "    }\n",
       "\n",
       "    .dataframe tbody tr th {\n",
       "        vertical-align: top;\n",
       "    }\n",
       "\n",
       "    .dataframe thead th {\n",
       "        text-align: right;\n",
       "    }\n",
       "</style>\n",
       "<table border=\"1\" class=\"dataframe\">\n",
       "  <thead>\n",
       "    <tr style=\"text-align: right;\">\n",
       "      <th></th>\n",
       "      <th>user_id</th>\n",
       "      <th>song_id</th>\n",
       "      <th>play_count</th>\n",
       "      <th>song_id_num</th>\n",
       "    </tr>\n",
       "  </thead>\n",
       "  <tbody>\n",
       "    <tr>\n",
       "      <th>5</th>\n",
       "      <td>b80344d063b5ccb3212f76538f3d9e43d87dca9e</td>\n",
       "      <td>SOBNZDC12A6D4FC103</td>\n",
       "      <td>1</td>\n",
       "      <td>10822</td>\n",
       "    </tr>\n",
       "    <tr>\n",
       "      <th>7</th>\n",
       "      <td>b80344d063b5ccb3212f76538f3d9e43d87dca9e</td>\n",
       "      <td>SOBVFZR12A6D4F8AE3</td>\n",
       "      <td>1</td>\n",
       "      <td>12869</td>\n",
       "    </tr>\n",
       "    <tr>\n",
       "      <th>16</th>\n",
       "      <td>b80344d063b5ccb3212f76538f3d9e43d87dca9e</td>\n",
       "      <td>SOEGVZY12A58A7857E</td>\n",
       "      <td>1</td>\n",
       "      <td>30099</td>\n",
       "    </tr>\n",
       "    <tr>\n",
       "      <th>17</th>\n",
       "      <td>b80344d063b5ccb3212f76538f3d9e43d87dca9e</td>\n",
       "      <td>SOEKWEA12A6D4F5DC3</td>\n",
       "      <td>1</td>\n",
       "      <td>31202</td>\n",
       "    </tr>\n",
       "    <tr>\n",
       "      <th>18</th>\n",
       "      <td>b80344d063b5ccb3212f76538f3d9e43d87dca9e</td>\n",
       "      <td>SOEOBYG12A6D4F8AE2</td>\n",
       "      <td>1</td>\n",
       "      <td>32120</td>\n",
       "    </tr>\n",
       "  </tbody>\n",
       "</table>\n",
       "</div>"
      ],
      "text/plain": [
       "                                     user_id             song_id  play_count  \\\n",
       "5   b80344d063b5ccb3212f76538f3d9e43d87dca9e  SOBNZDC12A6D4FC103           1   \n",
       "7   b80344d063b5ccb3212f76538f3d9e43d87dca9e  SOBVFZR12A6D4F8AE3           1   \n",
       "16  b80344d063b5ccb3212f76538f3d9e43d87dca9e  SOEGVZY12A58A7857E           1   \n",
       "17  b80344d063b5ccb3212f76538f3d9e43d87dca9e  SOEKWEA12A6D4F5DC3           1   \n",
       "18  b80344d063b5ccb3212f76538f3d9e43d87dca9e  SOEOBYG12A6D4F8AE2           1   \n",
       "\n",
       "    song_id_num  \n",
       "5         10822  \n",
       "7         12869  \n",
       "16        30099  \n",
       "17        31202  \n",
       "18        32120  "
      ]
     },
     "execution_count": 7,
     "metadata": {},
     "output_type": "execute_result"
    }
   ],
   "source": [
    "toptriplets  = triplets[triplets['song_id'].isin(topsong.index)]\n",
    "song_id = toptriplets['song_id'].astype('category').cat\n",
    "toptriplets['song_id_num'] = song_id.codes\n",
    "toptriplets.head()"
   ]
  },
  {
   "cell_type": "code",
   "execution_count": null,
   "id": "7b683b89",
   "metadata": {
    "id": "7b683b89",
    "outputId": "f6815a7c-59b0-478b-99ba-a449ae75ed92"
   },
   "outputs": [
    {
     "data": {
      "text/plain": [
       "0.17532719199275407"
      ]
     },
     "execution_count": 8,
     "metadata": {},
     "output_type": "execute_result"
    }
   ],
   "source": [
    "len(toptriplets) / len(triplets)"
   ]
  },
  {
   "cell_type": "code",
   "execution_count": null,
   "id": "a08d8b63",
   "metadata": {
    "id": "a08d8b63"
   },
   "outputs": [],
   "source": [
    "uniq_user_all = toptriplets['user_id'].unique()\n",
    "train_part = int(uniq_user_all.shape[0] * 0.7)\n",
    "train_part_us = uniq_user_all[train_part]\n",
    "index_train = toptriplets[toptriplets['user_id'] == train_part_us].index[0]\n",
    "triplets_train, triplets_test = toptriplets.loc[:index_train], toptriplets.loc[index_train:]"
   ]
  },
  {
   "cell_type": "code",
   "execution_count": null,
   "id": "5e2027df",
   "metadata": {
    "id": "5e2027df"
   },
   "outputs": [],
   "source": [
    "uniq_song = song_id.categories\n",
    "uniq_user = triplets_train['user_id'].unique()\n",
    "max_size = uniq_song.shape[0]\n",
    "triplets_val = triplets_train.values"
   ]
  },
  {
   "cell_type": "code",
   "execution_count": null,
   "id": "69bda86e",
   "metadata": {
    "id": "69bda86e",
    "outputId": "faf490ef-b29a-48f5-d107-76fa9fc77bfd"
   },
   "outputs": [
    {
     "data": {
      "text/plain": [
       "171386"
      ]
     },
     "execution_count": 135,
     "metadata": {},
     "output_type": "execute_result"
    }
   ],
   "source": [
    "max(triplets_val[:, 3])"
   ]
  },
  {
   "cell_type": "code",
   "execution_count": null,
   "id": "664600c9",
   "metadata": {
    "id": "664600c9",
    "outputId": "55c1ed95-b65f-4735-d03c-ba14de71357e"
   },
   "outputs": [
    {
     "data": {
      "text/plain": [
       "171387"
      ]
     },
     "execution_count": 124,
     "metadata": {},
     "output_type": "execute_result"
    }
   ],
   "source": [
    "len(uniq_song)"
   ]
  },
  {
   "cell_type": "code",
   "execution_count": null,
   "id": "6afc2391",
   "metadata": {
    "id": "6afc2391"
   },
   "outputs": [],
   "source": [
    "mas_index = []\n",
    "start_in = 0\n",
    "for trip_ind in np.arange(len(triplets_val)):\n",
    "    if triplets_val[start_in][0] != triplets_val[trip_ind][0]:\n",
    "        mas_index.append([start_in, trip_ind])\n",
    "        start_in = trip_ind"
   ]
  },
  {
   "cell_type": "code",
   "execution_count": null,
   "id": "4c6094c0",
   "metadata": {
    "id": "4c6094c0",
    "outputId": "e48a22cf-c246-469f-9938-71a8b40d1764"
   },
   "outputs": [
    {
     "name": "stderr",
     "output_type": "stream",
     "text": [
      "100%|██████████| 589061/589061 [00:15<00:00, 39115.15it/s]"
     ]
    },
    {
     "name": "stdout",
     "output_type": "stream",
     "text": [
      "CPU times: user 8.51 s, sys: 6.22 s, total: 14.7 s\n",
      "Wall time: 15.1 s\n"
     ]
    },
    {
     "name": "stderr",
     "output_type": "stream",
     "text": [
      "\n"
     ]
    }
   ],
   "source": [
    "%%time \n",
    "mas = []\n",
    "for st_in, fn_in in tqdm(mas_index):\n",
    "    zer = np.zeros(max_size, dtype = np.int8)\n",
    "    user_song_id = triplets_val[st_in:fn_in, 3]\n",
    "    zer[user_song_id.tolist()] = np.int8(1)\n",
    "    mas.append(zer)\n",
    "# mas = np.array(mas)"
   ]
  },
  {
   "cell_type": "code",
   "execution_count": null,
   "id": "1e96c311",
   "metadata": {
    "id": "1e96c311",
    "outputId": "368685b8-b757-4638-a37f-a07cfb910ec9"
   },
   "outputs": [
    {
     "data": {
      "text/plain": [
       "user_id        b80344d063b5ccb3212f76538f3d9e43d87dca9e\n",
       "song_id                              SOBNZDC12A6D4FC103\n",
       "play_count                                            1\n",
       "song_id_num                                       10822\n",
       "Name: 5, dtype: object"
      ]
     },
     "execution_count": 158,
     "metadata": {},
     "output_type": "execute_result"
    }
   ],
   "source": [
    "triplets_train.loc[triplets_train['user_id'] == 'b80344d063b5ccb3212f76538f3d9e43d87dca9e'].iloc[0]"
   ]
  },
  {
   "cell_type": "code",
   "execution_count": null,
   "id": "1b02f9ad",
   "metadata": {
    "id": "1b02f9ad",
    "outputId": "53d712c5-295a-4d9a-f6ba-62f7c986eb72"
   },
   "outputs": [
    {
     "data": {
      "text/plain": [
       "'SOXSAPY12AB0183E9B'"
      ]
     },
     "execution_count": 159,
     "metadata": {},
     "output_type": "execute_result"
    }
   ],
   "source": [
    "uniq_song[10822]"
   ]
  },
  {
   "cell_type": "code",
   "execution_count": null,
   "id": "34781fc7",
   "metadata": {
    "id": "34781fc7",
    "outputId": "edffb17c-8fdb-4117-a8e7-9d02f679eceb"
   },
   "outputs": [
    {
     "data": {
      "text/plain": [
       "array([ 10822,  12869,  30099,  31202,  32120,  40600,  42100,  53583,\n",
       "        53760,  56325,  60556,  74489,  96098, 100981, 103114, 110320,\n",
       "       116242, 117777, 119850, 128711, 129867, 138476, 140741, 157431,\n",
       "       166709, 171234], dtype=int32)"
      ]
     },
     "execution_count": 156,
     "metadata": {},
     "output_type": "execute_result"
    }
   ],
   "source": [
    "triplets_train.loc[triplets_train['user_id'] == 'b80344d063b5ccb3212f76538f3d9e43d87dca9e', 'song_id_num'].values"
   ]
  },
  {
   "cell_type": "code",
   "execution_count": null,
   "id": "a18fc67d",
   "metadata": {
    "id": "a18fc67d"
   },
   "outputs": [],
   "source": [
    "val = toptriplets['song_id'].astype('category').cat.categories"
   ]
  },
  {
   "cell_type": "code",
   "execution_count": null,
   "id": "fcb5396d",
   "metadata": {
    "id": "fcb5396d",
    "outputId": "9aff831a-796b-4d35-aad8-a777433a07b5"
   },
   "outputs": [
    {
     "data": {
      "text/plain": [
       "Index(['SOAAADD12AB018A9DD', 'SOAAAFI12A6D4F9C66', 'SOAAAGK12AB0189572',\n",
       "       'SOAAAMT12AB018C9C4', 'SOAAANN12A8C14425E', 'SOAAAQN12AB01856D3',\n",
       "       'SOAABCT12AB0185A57', 'SOAABLG12A6D4F73D2', 'SOAABMP12A6D4F7633',\n",
       "       'SOAABNE12A8C141154',\n",
       "       ...\n",
       "       'SOZZYLW12A8C13C168', 'SOZZYMH12AB0180A51', 'SOZZYRT12A8AE45DDA',\n",
       "       'SOZZYUB12AB0184FA5', 'SOZZZBY12A8C139058', 'SOZZZFB12A8AE45CDC',\n",
       "       'SOZZZFW12AB0187AD1', 'SOZZZON12A8C139ED5', 'SOZZZRV12A8C1361F1',\n",
       "       'SOZZZWN12AF72A1E29'],\n",
       "      dtype='object', length=171387)"
      ]
     },
     "execution_count": 167,
     "metadata": {},
     "output_type": "execute_result"
    }
   ],
   "source": [
    "val.cat.categories"
   ]
  },
  {
   "cell_type": "code",
   "execution_count": null,
   "id": "d508f383",
   "metadata": {
    "id": "d508f383",
    "outputId": "43046976-f7fa-47e4-9a9a-0d44efd250fd"
   },
   "outputs": [
    {
     "data": {
      "text/plain": [
       "[10822,\n",
       " 12869,\n",
       " 30099,\n",
       " 31202,\n",
       " 32120,\n",
       " 40600,\n",
       " 42100,\n",
       " 53583,\n",
       " 53760,\n",
       " 56325,\n",
       " 60556,\n",
       " 74489,\n",
       " 96098,\n",
       " 100981,\n",
       " 103114,\n",
       " 110320,\n",
       " 116242,\n",
       " 117777,\n",
       " 119850,\n",
       " 128711,\n",
       " 129867,\n",
       " 138476,\n",
       " 140741,\n",
       " 157431,\n",
       " 166709,\n",
       " 171234]"
      ]
     },
     "execution_count": 155,
     "metadata": {},
     "output_type": "execute_result"
    }
   ],
   "source": [
    "[en for en, i in enumerate(mas[0])  if i == 1 ]"
   ]
  },
  {
   "cell_type": "code",
   "execution_count": null,
   "id": "f9314dad",
   "metadata": {
    "id": "f9314dad",
    "outputId": "de95f896-a064-4f66-b2f1-a758e4537ec8"
   },
   "outputs": [
    {
     "data": {
      "text/plain": [
       "(26, 589061, 171387)"
      ]
     },
     "execution_count": 13,
     "metadata": {},
     "output_type": "execute_result"
    }
   ],
   "source": [
    "sum(mas[0]), len(mas), len(mas[0])"
   ]
  },
  {
   "cell_type": "code",
   "execution_count": null,
   "id": "8a014a88",
   "metadata": {
    "id": "8a014a88",
    "outputId": "9839bf2c-cb6d-4ce7-8eac-1b907badd9a1"
   },
   "outputs": [
    {
     "ename": "NameError",
     "evalue": "name 'triplets_test' is not defined",
     "output_type": "error",
     "traceback": [
      "\u001b[0;31m---------------------------------------------------------------------------\u001b[0m",
      "\u001b[0;31mNameError\u001b[0m                                 Traceback (most recent call last)",
      "\u001b[0;32m<ipython-input-253-64fbf2c261c6>\u001b[0m in \u001b[0;36m<module>\u001b[0;34m\u001b[0m\n\u001b[0;32m----> 1\u001b[0;31m \u001b[0mtriplets_test\u001b[0m\u001b[0;34m\u001b[0m\u001b[0;34m\u001b[0m\u001b[0m\n\u001b[0m",
      "\u001b[0;31mNameError\u001b[0m: name 'triplets_test' is not defined"
     ]
    }
   ],
   "source": [
    "unique_users_test = triplets_test['user_id'].unique()\n",
    "\n",
    "def create_vec()\n",
    "\n",
    "for user in unique_users_test:\n",
    "    data_user = triplets_test.loc[triplets_test['user_id'] == 'user']\n",
    "    count_song_user = len(data_user) // 2\n",
    "    train_song = data_user.loc[:count_song_user]\n",
    "    test_song = data_user.loc[count_song_user:]\n",
    "    \n",
    "    "
   ]
  },
  {
   "cell_type": "code",
   "execution_count": null,
   "id": "2881b99a",
   "metadata": {
    "id": "2881b99a"
   },
   "outputs": [],
   "source": [
    ""
   ]
  },
  {
   "cell_type": "code",
   "execution_count": null,
   "id": "413c455c",
   "metadata": {
    "id": "413c455c"
   },
   "outputs": [],
   "source": [
    "# with open(\"peop_sim.txt\", \"w\") as file:\n",
    "#     print(mas, file=file)\n",
    "    \n",
    "### ядро кибнет на шаге dump\n",
    "# with open('peop_sim.pickle', 'wb') as f:\n",
    "#     pickle.dump(mas, f)\n",
    "\n",
    "\n",
    "# with open('peop_sim.pickle', 'rb') as f:\n",
    "#     mas = pickle.load(f)\n",
    "\n",
    "\n"
   ]
  },
  {
   "cell_type": "markdown",
   "id": "09626d3b",
   "metadata": {
    "id": "09626d3b"
   },
   "source": [
    "## многопоточность "
   ]
  },
  {
   "cell_type": "code",
   "execution_count": null,
   "id": "d4999a91",
   "metadata": {
    "id": "d4999a91"
   },
   "outputs": [],
   "source": [
    "# import multiprocessing\n",
    "# from find_sim import find_sim"
   ]
  },
  {
   "cell_type": "markdown",
   "id": "836d99ee",
   "metadata": {
    "id": "836d99ee"
   },
   "source": [
    "https://stackoverflow.com/questions/47313732/jupyter-notebook-never-finishes-processing-using-multiprocessing-python-3"
   ]
  },
  {
   "cell_type": "code",
   "execution_count": null,
   "id": "b5476299",
   "metadata": {
    "id": "b5476299"
   },
   "outputs": [],
   "source": [
    "# %%time\n",
    "\n",
    "# count_proc = 14\n",
    "# client_number = 4\n",
    "# linspace = np.linspace(0, len(mas), count_proc + 1).astype('int')\n",
    "# slices_mas = [(mas[client_number], mas[linspace[i - 1]: linspace[i]]) for i in range(1, len(linspace))]\n",
    "\n",
    "# pool = multiprocessing.Pool(processes=count_proc)\n",
    "# res = pool.map(find_sim, slices_mas)"
   ]
  },
  {
   "cell_type": "code",
   "execution_count": null,
   "id": "ac95a680",
   "metadata": {
    "id": "ac95a680"
   },
   "outputs": [],
   "source": [
    "# slices_mas[1]"
   ]
  },
  {
   "cell_type": "code",
   "execution_count": null,
   "id": "f4b23358",
   "metadata": {
    "id": "f4b23358",
    "outputId": "7daf9468-f90f-4fa7-c954-11ca5cc5a33a"
   },
   "outputs": [
    {
     "name": "stdout",
     "output_type": "stream",
     "text": [
      "CPU times: user 2 µs, sys: 0 ns, total: 2 µs\n",
      "Wall time: 5.01 µs\n"
     ]
    }
   ],
   "source": [
    "%%time\n",
    "client_number = 4\n",
    "sim_user1 = np.array([cosine(mas[client_number], vector) for vector in mas[:196353]])\n",
    "sim_user2 = np.array([cosine(mas[client_number], vector) for vector in mas[196353:392706]])\n",
    "sim_user3 = np.array([cosine(mas[client_number], vector) for vector in mas[392706:]])"
   ]
  },
  {
   "cell_type": "code",
   "execution_count": null,
   "id": "82a610ba",
   "metadata": {
    "id": "82a610ba"
   },
   "outputs": [],
   "source": [
    "sort_ind_1 = np.argsort(sim_user1)[:30]\n",
    "sort_ind_2 = np.argsort(sim_user2)[:30]\n",
    "sort_ind_3 = np.argsort(sim_user3)[:30] "
   ]
  },
  {
   "cell_type": "code",
   "execution_count": null,
   "id": "f1126ca8",
   "metadata": {
    "id": "f1126ca8"
   },
   "outputs": [],
   "source": [
    "all_index = np.concatenate([sort_ind_1, sort_ind_2 + 196353, sort_ind_3 + 392706])\n",
    "all_value = np.concatenate([sim_user1[sort_ind_1], sim_user2[sort_ind_2], sim_user3[sort_ind_3]])"
   ]
  },
  {
   "cell_type": "code",
   "execution_count": null,
   "id": "d2fda237",
   "metadata": {
    "id": "d2fda237",
    "outputId": "96b02388-62f7-4f14-d8b1-c2f36d1e6b05"
   },
   "outputs": [
    {
     "data": {
      "text/plain": [
       "array([     4,  11631, 468011, 323889, 359807, 506692, 478905, 420514,\n",
       "       148981, 316007, 471650, 334104, 219695,  37954, 191367, 366335,\n",
       "       475638, 439452, 400203, 249334, 315136, 348557, 242192, 193527,\n",
       "       478556,  92048, 263807, 354657, 321269,  51700, 105388, 588347,\n",
       "       555874, 472175, 397593, 392240, 363743, 260575, 584189, 565134,\n",
       "       199672, 199117, 191703,  36082,  25391, 151054, 436076, 139367,\n",
       "       298148, 314480])"
      ]
     },
     "execution_count": 31,
     "metadata": {},
     "output_type": "execute_result"
    }
   ],
   "source": [
    "sort_ind_all = np.argsort(all_value)[:50]\n",
    "index_to_mas = all_index[sort_ind_all]\n",
    "index_to_mas"
   ]
  },
  {
   "cell_type": "code",
   "execution_count": null,
   "id": "c4838b98",
   "metadata": {
    "id": "c4838b98"
   },
   "outputs": [],
   "source": [
    "# cosine(mas[4], mas[500]) "
   ]
  },
  {
   "cell_type": "code",
   "execution_count": null,
   "id": "978c4567",
   "metadata": {
    "id": "978c4567"
   },
   "outputs": [],
   "source": [
    "ans = np.array([])\n",
    "for i in index_to_mas:\n",
    "    ans = np.append(ans, uniq_song[mas[i] - mas[4] == 1])\n",
    "pred_user = ans[:10]"
   ]
  },
  {
   "cell_type": "code",
   "execution_count": null,
   "id": "e46620b9",
   "metadata": {
    "id": "e46620b9"
   },
   "outputs": [],
   "source": [
    ""
   ]
  },
  {
   "cell_type": "code",
   "execution_count": null,
   "id": "2215a71f",
   "metadata": {
    "id": "2215a71f"
   },
   "outputs": [],
   "source": [
    ""
   ]
  },
  {
   "cell_type": "code",
   "execution_count": null,
   "id": "328eb7f0",
   "metadata": {
    "id": "328eb7f0"
   },
   "outputs": [],
   "source": [
    ""
   ]
  },
  {
   "cell_type": "code",
   "execution_count": null,
   "id": "e2268008",
   "metadata": {
    "id": "e2268008"
   },
   "outputs": [],
   "source": [
    ""
   ]
  },
  {
   "cell_type": "code",
   "execution_count": null,
   "id": "b0793252",
   "metadata": {
    "id": "b0793252"
   },
   "outputs": [],
   "source": [
    ""
   ]
  },
  {
   "cell_type": "code",
   "execution_count": null,
   "id": "40254788",
   "metadata": {
    "id": "40254788",
    "outputId": "4fb53013-9015-4e8e-ff89-198f70f53d8c"
   },
   "outputs": [
    {
     "data": {
      "text/plain": [
       "589061"
      ]
     },
     "execution_count": 170,
     "metadata": {},
     "output_type": "execute_result"
    }
   ],
   "source": [
    "len(mas)"
   ]
  },
  {
   "cell_type": "code",
   "execution_count": null,
   "id": "c16e66ef",
   "metadata": {
    "id": "c16e66ef",
    "outputId": "c59666f7-eaaf-4824-8555-4886656b5d82"
   },
   "outputs": [
    {
     "data": {
      "text/plain": [
       "(171387, 26)"
      ]
     },
     "execution_count": 171,
     "metadata": {},
     "output_type": "execute_result"
    }
   ],
   "source": [
    "len(uniq_song[mas[0]]), len(v1)"
   ]
  },
  {
   "cell_type": "code",
   "execution_count": null,
   "id": "228c5def",
   "metadata": {
    "id": "228c5def",
    "outputId": "77abc340-1004-4be6-fb4a-1766ca38517e"
   },
   "outputs": [
    {
     "data": {
      "text/plain": [
       "(171387, 171387)"
      ]
     },
     "execution_count": 172,
     "metadata": {},
     "output_type": "execute_result"
    }
   ],
   "source": [
    "len(mas[0]), len(uniq_song)"
   ]
  },
  {
   "cell_type": "code",
   "execution_count": null,
   "id": "312dcf4f",
   "metadata": {
    "id": "312dcf4f",
    "outputId": "9a51e279-4ee7-4a5a-d41c-2d737506cf38"
   },
   "outputs": [
    {
     "data": {
      "text/plain": [
       "array(['SOBNZDC12A6D4FC103', 'SOBVFZR12A6D4F8AE3', 'SOEGVZY12A58A7857E',\n",
       "       'SOEKWEA12A6D4F5DC3', 'SOEOBYG12A6D4F8AE2', 'SOFTKSZ12A6D4F5DC5',\n",
       "       'SOFZFQU12A8C13CAB8', 'SOHQIAG12A8C136F64', 'SOHQZCA12A6D4FB317',\n",
       "       'SOIAOBY12A8C13BF75', 'SOIQOQT12A8C136F96', 'SOKSIKA12A6D4F5DC7',\n",
       "       'SONYTAN12A8C13BF88', 'SOOSIVQ12A6D4F8AE0', 'SOPBCSY12A6D4F5DC4',\n",
       "       'SOQEMEN12A8C13BF8B', 'SORDDVI12A8C136F53', 'SORJNVW12A8C13BF90',\n",
       "       'SORSAJY12A6D4F7457', 'SOTCPHF12A8C13BF9B', 'SOTHMIK12A8C136FA1',\n",
       "       'SOUQUBU12AF72A47B3', 'SOVAJXX12A8AE47D5C', 'SOXSPON12A6D4F5DC2',\n",
       "       'SOZGCUB12A8C133997', 'SOZZHXI12A8C13BF7D'], dtype=object)"
      ]
     },
     "execution_count": 173,
     "metadata": {},
     "output_type": "execute_result"
    }
   ],
   "source": [
    "v1 = triplets_train.loc[triplets_train['user_id'] == 'b80344d063b5ccb3212f76538f3d9e43d87dca9e', 'song_id'].values\n",
    "v1"
   ]
  },
  {
   "cell_type": "code",
   "execution_count": null,
   "id": "07a97e64",
   "metadata": {
    "id": "07a97e64",
    "outputId": "d78981b0-1c3f-4ae2-ab6e-b99ce2830b86"
   },
   "outputs": [
    {
     "data": {
      "text/plain": [
       "Index(['SOBNZDC12A6D4FC103', 'SOBVFZR12A6D4F8AE3', 'SOEGVZY12A58A7857E',\n",
       "       'SOEKWEA12A6D4F5DC3', 'SOEOBYG12A6D4F8AE2', 'SOFTKSZ12A6D4F5DC5',\n",
       "       'SOFZFQU12A8C13CAB8', 'SOHQIAG12A8C136F64', 'SOHQZCA12A6D4FB317',\n",
       "       'SOIAOBY12A8C13BF75', 'SOIQOQT12A8C136F96', 'SOKSIKA12A6D4F5DC7',\n",
       "       'SONYTAN12A8C13BF88', 'SOOSIVQ12A6D4F8AE0', 'SOPBCSY12A6D4F5DC4',\n",
       "       'SOQEMEN12A8C13BF8B', 'SORDDVI12A8C136F53', 'SORJNVW12A8C13BF90',\n",
       "       'SORSAJY12A6D4F7457', 'SOTCPHF12A8C13BF9B', 'SOTHMIK12A8C136FA1',\n",
       "       'SOUQUBU12AF72A47B3', 'SOVAJXX12A8AE47D5C', 'SOXSPON12A6D4F5DC2',\n",
       "       'SOZGCUB12A8C133997', 'SOZZHXI12A8C13BF7D'],\n",
       "      dtype='object')"
      ]
     },
     "execution_count": 174,
     "metadata": {},
     "output_type": "execute_result"
    }
   ],
   "source": [
    "v2 = uniq_song[mas[0] == 1]\n",
    "v2"
   ]
  },
  {
   "cell_type": "code",
   "execution_count": null,
   "id": "2ef7eab2",
   "metadata": {
    "id": "2ef7eab2",
    "outputId": "06b79aea-1a44-445f-d818-e1b43103af49"
   },
   "outputs": [
    {
     "data": {
      "text/plain": [
       "(26, 26)"
      ]
     },
     "execution_count": 175,
     "metadata": {},
     "output_type": "execute_result"
    }
   ],
   "source": [
    "len(v1), len(v2)"
   ]
  },
  {
   "cell_type": "code",
   "execution_count": null,
   "id": "ac540df7",
   "metadata": {
    "id": "ac540df7",
    "outputId": "9f2f416c-5d3a-4085-dd67-21911e97ea67"
   },
   "outputs": [
    {
     "data": {
      "text/plain": [
       "True"
      ]
     },
     "execution_count": 178,
     "metadata": {},
     "output_type": "execute_result"
    }
   ],
   "source": [
    "all(v2 == v1)"
   ]
  },
  {
   "cell_type": "code",
   "execution_count": null,
   "id": "fce12e3c",
   "metadata": {
    "id": "fce12e3c"
   },
   "outputs": [],
   "source": [
    "# for i in pred_user:\n",
    "#     if i in v1:\n",
    "#         print('ok')"
   ]
  },
  {
   "cell_type": "markdown",
   "id": "ddde0fab",
   "metadata": {
    "id": "ddde0fab"
   },
   "source": [
    "### People who listen to this track usually listen\n",
    "The same things applied to these recommendations: use train/test split, use p@k. If you\n",
    "gave a user 10 tracks to listen and if they liked 3 of them (they really listen to them in\n",
    "the test dataset), then the p@k will be equal to 30%. Calculate the average p@k for your\n",
    "recommendations. It should be at least greater than 10%.\n",
    "\n",
    "The script should return 10 recommendations for a given track in a dataframe: index\n",
    "number, artist name, track title. The table should be sorted descendingly by the “likelihood”\n",
    "that any given user will “like” the track."
   ]
  },
  {
   "cell_type": "code",
   "execution_count": null,
   "id": "bf69b269",
   "metadata": {
    "id": "bf69b269"
   },
   "outputs": [],
   "source": [
    "# with open('data/P02. MySpotify/mxm_dataset_train_header.txt', 'r') as file:\n",
    "#     for i in file:\n",
    "#         print(len(i.split(',')))"
   ]
  },
  {
   "cell_type": "code",
   "execution_count": null,
   "id": "6ac73272",
   "metadata": {
    "id": "6ac73272"
   },
   "outputs": [],
   "source": [
    "data = mxm_dataset.values[:, 2:]\n",
    "max_count_word = 5000"
   ]
  },
  {
   "cell_type": "code",
   "execution_count": null,
   "id": "d9448016",
   "metadata": {
    "id": "d9448016",
    "outputId": "ba69176a-e208-46d5-fde2-78919b8b4ba5"
   },
   "outputs": [
    {
     "name": "stderr",
     "output_type": "stream",
     "text": [
      "100%|██████████| 210518/210518 [00:19<00:00, 10627.90it/s]\n"
     ]
    },
    {
     "name": "stdout",
     "output_type": "stream",
     "text": [
      "CPU times: user 20.7 s, sys: 10.9 s, total: 31.6 s\n",
      "Wall time: 35.3 s\n"
     ]
    }
   ],
   "source": [
    "%%time \n",
    "mas = []\n",
    "for track in tqdm(data):\n",
    "    zer = np.zeros(max_count_word)\n",
    "    for word in track:\n",
    "        if not isinstance(word, str):\n",
    "            break\n",
    "        word_index, word_count = word.split(':')\n",
    "        zer[int(word_index) - 1] = int(word_count)\n",
    "    mas.append(zer)\n",
    "mas = np.array(mas)"
   ]
  },
  {
   "cell_type": "code",
   "execution_count": null,
   "id": "85d49a6f",
   "metadata": {
    "id": "85d49a6f",
    "outputId": "ea9c61be-a60a-4f97-bc08-c30aea60402a"
   },
   "outputs": [
    {
     "name": "stdout",
     "output_type": "stream",
     "text": [
      "CPU times: user 9.92 s, sys: 280 ms, total: 10.2 s\n",
      "Wall time: 10.2 s\n"
     ]
    }
   ],
   "source": [
    "%%time \n",
    "track_number =4\n",
    "sim_track = np.array([cosine(mas[track_number], vector) for vector in mas])"
   ]
  },
  {
   "cell_type": "code",
   "execution_count": null,
   "id": "a2eaf099",
   "metadata": {
    "id": "a2eaf099",
    "outputId": "6db81126-7269-4432-c521-e4d32642a23f"
   },
   "outputs": [
    {
     "data": {
      "text/plain": [
       "array([0.        , 0.38534386, 0.38647683, 0.38985974, 0.39396279,\n",
       "       0.39456162, 0.39456162, 0.39633599, 0.40354909, 0.40363339,\n",
       "       0.40378542, 0.40493178, 0.40937037, 0.41006704, 0.41010269,\n",
       "       0.41593658, 0.41894095, 0.42228776, 0.42401001, 0.42642596])"
      ]
     },
     "execution_count": 296,
     "metadata": {},
     "output_type": "execute_result"
    }
   ],
   "source": [
    "sort_ind = np.argsort(sim_track)[:20]\n",
    "sim_track[sort_ind]"
   ]
  },
  {
   "cell_type": "code",
   "execution_count": null,
   "id": "40f490d3",
   "metadata": {
    "id": "40f490d3",
    "outputId": "f2d6e545-48d9-45ac-df25-b4006c23c7c7"
   },
   "outputs": [
    {
     "data": {
      "text/plain": [
       "4         TRAAAEF128F4273421\n",
       "205327    TRZIUDQ128F1464C15\n",
       "165488    TRUJTJR128F425F86C\n",
       "186626    TRXANPN128F92E51FC\n",
       "8750      TRBBCOH128F429C165\n",
       "187904    TRXERRS128F42969E4\n",
       "202302    TRYZAOO128F428C0A6\n",
       "80728     TRJYOBL12903CB4A95\n",
       "152606    TRSTQKV128F42665CA\n",
       "126517    TRPOLHB128F1480A03\n",
       "28161     TRDLARA128F9312AAD\n",
       "182248    TRWLZMH128F92C22A0\n",
       "103230    TRMSDAZ128F42B9B1C\n",
       "13538     TRBQNEQ128F92CF2BE\n",
       "75048     TRJGUAN128F4293F4A\n",
       "197461    TRYJIBX128F4288E73\n",
       "75847     TRJJKJO128F423DC9C\n",
       "192564    TRXTVKN128F92DF5DA\n",
       "36427     TRELVYH128F4278D29\n",
       "195030    TRYBSTW128F9337E37\n",
       "Name: TRVNYYP128F149293F, dtype: object"
      ]
     },
     "execution_count": 302,
     "metadata": {},
     "output_type": "execute_result"
    }
   ],
   "source": [
    "mxm_dataset.iloc[sort_ind]['TRVNYYP128F149293F']"
   ]
  },
  {
   "cell_type": "code",
   "execution_count": null,
   "id": "0f0c210f",
   "metadata": {
    "id": "0f0c210f"
   },
   "outputs": [],
   "source": [
    ""
   ]
  },
  {
   "cell_type": "code",
   "execution_count": null,
   "id": "01795197",
   "metadata": {
    "id": "01795197"
   },
   "outputs": [],
   "source": [
    ""
   ]
  },
  {
   "cell_type": "code",
   "execution_count": null,
   "id": "7169caf0",
   "metadata": {
    "id": "7169caf0"
   },
   "outputs": [],
   "source": [
    ""
   ]
  },
  {
   "cell_type": "code",
   "execution_count": null,
   "id": "27286171",
   "metadata": {
    "id": "27286171"
   },
   "outputs": [],
   "source": [
    ""
   ]
  },
  {
   "cell_type": "code",
   "execution_count": null,
   "id": "8bf6ba81",
   "metadata": {
    "id": "8bf6ba81"
   },
   "outputs": [],
   "source": [
    ""
   ]
  }
 ],
 "metadata": {
  "colab": {
   "collapsed_sections": [
    "ef8db1e4"
   ],
   "name": "dev_Copy1.ipynb",
   "provenance": []
  },
  "kernelspec": {
   "display_name": "Python 3",
   "language": "python",
   "name": "python3"
  },
  "language_info": {
   "codemirror_mode": {
    "name": "ipython",
    "version": 3
   },
   "file_extension": ".py",
   "mimetype": "text/x-python",
   "name": "python",
   "nbconvert_exporter": "python",
   "pygments_lexer": "ipython3",
   "version": "3.8.8"
  }
 },
 "nbformat": 4,
 "nbformat_minor": 5
}
